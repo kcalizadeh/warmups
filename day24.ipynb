{
 "cells": [
  {
   "cell_type": "code",
   "execution_count": 1,
   "metadata": {},
   "outputs": [],
   "source": [
    "# use scipy.stats to complete the following problems"
   ]
  },
  {
   "cell_type": "markdown",
   "metadata": {},
   "source": [
    "# Section A\n",
    "There was a recent poll taken to measure the salaries of tenets in a cluster of apartment complexes.  After some statistical analysis the outcome was that the mean of the sample was \\\\$65k and the sample standard deviation was \\\\$4k. \n",
    "\n",
    "Given this information:\n",
    "\n",
    "What is the probability that a tenet, chosen at random, will\n",
    "\n",
    "* Have a salary over \\\\$75k\n",
    "* Have a salary less than \\\\$40k\n",
    "* Have a salary between \\\\$60k and \\\\$72k"
   ]
  },
  {
   "cell_type": "code",
   "execution_count": 2,
   "metadata": {},
   "outputs": [],
   "source": [
    "# code here"
   ]
  },
  {
   "cell_type": "markdown",
   "metadata": {},
   "source": [
    "# Section B\n",
    "* plot the pdf of the distribution of salaries\n",
    "* plot the cdf of the distribution of salaries"
   ]
  },
  {
   "cell_type": "code",
   "execution_count": null,
   "metadata": {},
   "outputs": [],
   "source": []
  }
 ],
 "metadata": {
  "kernelspec": {
   "display_name": "flatiron-env",
   "language": "python",
   "name": "flatiron-env"
  },
  "language_info": {
   "codemirror_mode": {
    "name": "ipython",
    "version": 3
   },
   "file_extension": ".py",
   "mimetype": "text/x-python",
   "name": "python",
   "nbconvert_exporter": "python",
   "pygments_lexer": "ipython3",
   "version": "3.7.3"
  }
 },
 "nbformat": 4,
 "nbformat_minor": 2
}
