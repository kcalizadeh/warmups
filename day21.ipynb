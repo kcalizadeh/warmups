{
 "cells": [
  {
   "cell_type": "code",
   "execution_count": 2,
   "metadata": {},
   "outputs": [],
   "source": [
    "def count_permutations(lst):\n",
    "    \"\"\"\n",
    "    write a function that takes in a lst\n",
    "    and a returns the total number of permutations of\n",
    "    that lst\n",
    "    \n",
    "    ex: lst = [1, 2, 3]\n",
    "    returns 6\n",
    "    \n",
    "    since there are 6 permutations of the lst\n",
    "    1, 2, 3\n",
    "    1, 3, 2\n",
    "    2, 1, 3\n",
    "    2, 3, 1\n",
    "    3, 1, 2\n",
    "    3, 2, 1\n",
    "    \"\"\"\n",
    "    pass"
   ]
  },
  {
   "cell_type": "code",
   "execution_count": null,
   "metadata": {},
   "outputs": [],
   "source": [
    "# test your code here. remember if nothing happens that means pass\n",
    "lst = [4, 2, 3, 1, 9]\n",
    "lst2= ['a', 'b', 'c', 1, 5, 2, 3]\n",
    "assert count_permutations(lst)==120, \"count_permutations failed test 1\"\n",
    "assert count_permutations(lst2)==5040, \"count_permutations failed test 2\""
   ]
  }
 ],
 "metadata": {
  "kernelspec": {
   "display_name": "flatiron-env",
   "language": "python",
   "name": "flatiron-env"
  },
  "language_info": {
   "codemirror_mode": {
    "name": "ipython",
    "version": 3
   },
   "file_extension": ".py",
   "mimetype": "text/x-python",
   "name": "python",
   "nbconvert_exporter": "python",
   "pygments_lexer": "ipython3",
   "version": "3.7.3"
  }
 },
 "nbformat": 4,
 "nbformat_minor": 2
}
