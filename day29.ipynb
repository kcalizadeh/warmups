{
 "cells": [
  {
   "cell_type": "code",
   "execution_count": 1,
   "metadata": {},
   "outputs": [],
   "source": [
    "import pandas as pd\n",
    "import numpy as np"
   ]
  },
  {
   "cell_type": "code",
   "execution_count": 2,
   "metadata": {},
   "outputs": [
    {
     "output_type": "execute_result",
     "data": {
      "text/plain": "   sepal length (cm)  sepal width (cm)  petal length (cm)  petal width (cm)  \\\n0                5.1               3.5                1.4               0.2   \n1                4.9               3.0                1.4               0.2   \n2                4.7               3.2                1.3               0.2   \n3                4.6               3.1                1.5               0.2   \n4                5.0               3.6                1.4               0.2   \n\n  flower_type  \n0      setosa  \n1      setosa  \n2      setosa  \n3      setosa  \n4      setosa  ",
      "text/html": "<div>\n<style scoped>\n    .dataframe tbody tr th:only-of-type {\n        vertical-align: middle;\n    }\n\n    .dataframe tbody tr th {\n        vertical-align: top;\n    }\n\n    .dataframe thead th {\n        text-align: right;\n    }\n</style>\n<table border=\"1\" class=\"dataframe\">\n  <thead>\n    <tr style=\"text-align: right;\">\n      <th></th>\n      <th>sepal length (cm)</th>\n      <th>sepal width (cm)</th>\n      <th>petal length (cm)</th>\n      <th>petal width (cm)</th>\n      <th>flower_type</th>\n    </tr>\n  </thead>\n  <tbody>\n    <tr>\n      <th>0</th>\n      <td>5.1</td>\n      <td>3.5</td>\n      <td>1.4</td>\n      <td>0.2</td>\n      <td>setosa</td>\n    </tr>\n    <tr>\n      <th>1</th>\n      <td>4.9</td>\n      <td>3.0</td>\n      <td>1.4</td>\n      <td>0.2</td>\n      <td>setosa</td>\n    </tr>\n    <tr>\n      <th>2</th>\n      <td>4.7</td>\n      <td>3.2</td>\n      <td>1.3</td>\n      <td>0.2</td>\n      <td>setosa</td>\n    </tr>\n    <tr>\n      <th>3</th>\n      <td>4.6</td>\n      <td>3.1</td>\n      <td>1.5</td>\n      <td>0.2</td>\n      <td>setosa</td>\n    </tr>\n    <tr>\n      <th>4</th>\n      <td>5.0</td>\n      <td>3.6</td>\n      <td>1.4</td>\n      <td>0.2</td>\n      <td>setosa</td>\n    </tr>\n  </tbody>\n</table>\n</div>"
     },
     "metadata": {},
     "execution_count": 2
    }
   ],
   "source": [
    "df = pd.read_csv(\"./data/iris.csv\")\n",
    "df.head()"
   ]
  },
  {
   "cell_type": "code",
   "execution_count": 15,
   "metadata": {},
   "outputs": [
    {
     "output_type": "display_data",
     "data": {
      "application/vnd.plotly.v1+json": {
       "config": {
        "plotlyServerURL": "https://plot.ly"
       },
       "data": [
        {
         "hoverlabel": {
          "namelength": 0
         },
         "hovertemplate": "flower_type=setosa<br>sepal width (cm)=%{x}<br>sepal length (cm)=%{y}",
         "legendgroup": "flower_type=setosa",
         "marker": {
          "color": "#636efa",
          "symbol": "circle"
         },
         "mode": "markers",
         "name": "flower_type=setosa",
         "showlegend": true,
         "type": "scatter",
         "x": [
          3.5,
          3,
          3.2,
          3.1,
          3.6,
          3.9,
          3.4,
          3.4,
          2.9,
          3.1,
          3.7,
          3.4,
          3,
          3,
          4,
          4.4,
          3.9,
          3.5,
          3.8,
          3.8,
          3.4,
          3.7,
          3.6,
          3.3,
          3.4,
          3,
          3.4,
          3.5,
          3.4,
          3.2,
          3.1,
          3.4,
          4.1,
          4.2,
          3.1,
          3.2,
          3.5,
          3.6,
          3,
          3.4,
          3.5,
          2.3,
          3.2,
          3.5,
          3.8,
          3,
          3.8,
          3.2,
          3.7,
          3.3
         ],
         "xaxis": "x",
         "y": [
          5.1,
          4.9,
          4.7,
          4.6,
          5,
          5.4,
          4.6,
          5,
          4.4,
          4.9,
          5.4,
          4.8,
          4.8,
          4.3,
          5.8,
          5.7,
          5.4,
          5.1,
          5.7,
          5.1,
          5.4,
          5.1,
          4.6,
          5.1,
          4.8,
          5,
          5,
          5.2,
          5.2,
          4.7,
          4.8,
          5.4,
          5.2,
          5.5,
          4.9,
          5,
          5.5,
          4.9,
          4.4,
          5.1,
          5,
          4.5,
          4.4,
          5,
          5.1,
          4.8,
          5.1,
          4.6,
          5.3,
          5
         ],
         "yaxis": "y"
        },
        {
         "hoverlabel": {
          "namelength": 0
         },
         "hovertemplate": "flower_type=versicolor<br>sepal width (cm)=%{x}<br>sepal length (cm)=%{y}",
         "legendgroup": "flower_type=versicolor",
         "marker": {
          "color": "#EF553B",
          "symbol": "circle"
         },
         "mode": "markers",
         "name": "flower_type=versicolor",
         "showlegend": true,
         "type": "scatter",
         "x": [
          3.2,
          3.2,
          3.1,
          2.3,
          2.8,
          2.8,
          3.3,
          2.4,
          2.9,
          2.7,
          2,
          3,
          2.2,
          2.9,
          2.9,
          3.1,
          3,
          2.7,
          2.2,
          2.5,
          3.2,
          2.8,
          2.5,
          2.8,
          2.9,
          3,
          2.8,
          3,
          2.9,
          2.6,
          2.4,
          2.4,
          2.7,
          2.7,
          3,
          3.4,
          3.1,
          2.3,
          3,
          2.5,
          2.6,
          3,
          2.6,
          2.3,
          2.7,
          3,
          2.9,
          2.9,
          2.5,
          2.8
         ],
         "xaxis": "x",
         "y": [
          7,
          6.4,
          6.9,
          5.5,
          6.5,
          5.7,
          6.3,
          4.9,
          6.6,
          5.2,
          5,
          5.9,
          6,
          6.1,
          5.6,
          6.7,
          5.6,
          5.8,
          6.2,
          5.6,
          5.9,
          6.1,
          6.3,
          6.1,
          6.4,
          6.6,
          6.8,
          6.7,
          6,
          5.7,
          5.5,
          5.5,
          5.8,
          6,
          5.4,
          6,
          6.7,
          6.3,
          5.6,
          5.5,
          5.5,
          6.1,
          5.8,
          5,
          5.6,
          5.7,
          5.7,
          6.2,
          5.1,
          5.7
         ],
         "yaxis": "y"
        },
        {
         "hoverlabel": {
          "namelength": 0
         },
         "hovertemplate": "flower_type=virginica<br>sepal width (cm)=%{x}<br>sepal length (cm)=%{y}",
         "legendgroup": "flower_type=virginica",
         "marker": {
          "color": "#00cc96",
          "symbol": "circle"
         },
         "mode": "markers",
         "name": "flower_type=virginica",
         "showlegend": true,
         "type": "scatter",
         "x": [
          3.3,
          2.7,
          3,
          2.9,
          3,
          3,
          2.5,
          2.9,
          2.5,
          3.6,
          3.2,
          2.7,
          3,
          2.5,
          2.8,
          3.2,
          3,
          3.8,
          2.6,
          2.2,
          3.2,
          2.8,
          2.8,
          2.7,
          3.3,
          3.2,
          2.8,
          3,
          2.8,
          3,
          2.8,
          3.8,
          2.8,
          2.8,
          2.6,
          3,
          3.4,
          3.1,
          3,
          3.1,
          3.1,
          3.1,
          2.7,
          3.2,
          3.3,
          3,
          2.5,
          3,
          3.4,
          3
         ],
         "xaxis": "x",
         "y": [
          6.3,
          5.8,
          7.1,
          6.3,
          6.5,
          7.6,
          4.9,
          7.3,
          6.7,
          7.2,
          6.5,
          6.4,
          6.8,
          5.7,
          5.8,
          6.4,
          6.5,
          7.7,
          7.7,
          6,
          6.9,
          5.6,
          7.7,
          6.3,
          6.7,
          7.2,
          6.2,
          6.1,
          6.4,
          7.2,
          7.4,
          7.9,
          6.4,
          6.3,
          6.1,
          7.7,
          6.3,
          6.4,
          6,
          6.9,
          6.7,
          6.9,
          5.8,
          6.8,
          6.7,
          6.7,
          6.3,
          6.5,
          6.2,
          5.9
         ],
         "yaxis": "y"
        }
       ],
       "layout": {
        "height": 600,
        "legend": {
         "tracegroupgap": 0
        },
        "margin": {
         "t": 60
        },
        "template": {
         "data": {
          "bar": [
           {
            "error_x": {
             "color": "#2a3f5f"
            },
            "error_y": {
             "color": "#2a3f5f"
            },
            "marker": {
             "line": {
              "color": "#E5ECF6",
              "width": 0.5
             }
            },
            "type": "bar"
           }
          ],
          "barpolar": [
           {
            "marker": {
             "line": {
              "color": "#E5ECF6",
              "width": 0.5
             }
            },
            "type": "barpolar"
           }
          ],
          "carpet": [
           {
            "aaxis": {
             "endlinecolor": "#2a3f5f",
             "gridcolor": "white",
             "linecolor": "white",
             "minorgridcolor": "white",
             "startlinecolor": "#2a3f5f"
            },
            "baxis": {
             "endlinecolor": "#2a3f5f",
             "gridcolor": "white",
             "linecolor": "white",
             "minorgridcolor": "white",
             "startlinecolor": "#2a3f5f"
            },
            "type": "carpet"
           }
          ],
          "choropleth": [
           {
            "colorbar": {
             "outlinewidth": 0,
             "ticks": ""
            },
            "type": "choropleth"
           }
          ],
          "contour": [
           {
            "colorbar": {
             "outlinewidth": 0,
             "ticks": ""
            },
            "colorscale": [
             [
              0,
              "#0d0887"
             ],
             [
              0.1111111111111111,
              "#46039f"
             ],
             [
              0.2222222222222222,
              "#7201a8"
             ],
             [
              0.3333333333333333,
              "#9c179e"
             ],
             [
              0.4444444444444444,
              "#bd3786"
             ],
             [
              0.5555555555555556,
              "#d8576b"
             ],
             [
              0.6666666666666666,
              "#ed7953"
             ],
             [
              0.7777777777777778,
              "#fb9f3a"
             ],
             [
              0.8888888888888888,
              "#fdca26"
             ],
             [
              1,
              "#f0f921"
             ]
            ],
            "type": "contour"
           }
          ],
          "contourcarpet": [
           {
            "colorbar": {
             "outlinewidth": 0,
             "ticks": ""
            },
            "type": "contourcarpet"
           }
          ],
          "heatmap": [
           {
            "colorbar": {
             "outlinewidth": 0,
             "ticks": ""
            },
            "colorscale": [
             [
              0,
              "#0d0887"
             ],
             [
              0.1111111111111111,
              "#46039f"
             ],
             [
              0.2222222222222222,
              "#7201a8"
             ],
             [
              0.3333333333333333,
              "#9c179e"
             ],
             [
              0.4444444444444444,
              "#bd3786"
             ],
             [
              0.5555555555555556,
              "#d8576b"
             ],
             [
              0.6666666666666666,
              "#ed7953"
             ],
             [
              0.7777777777777778,
              "#fb9f3a"
             ],
             [
              0.8888888888888888,
              "#fdca26"
             ],
             [
              1,
              "#f0f921"
             ]
            ],
            "type": "heatmap"
           }
          ],
          "heatmapgl": [
           {
            "colorbar": {
             "outlinewidth": 0,
             "ticks": ""
            },
            "colorscale": [
             [
              0,
              "#0d0887"
             ],
             [
              0.1111111111111111,
              "#46039f"
             ],
             [
              0.2222222222222222,
              "#7201a8"
             ],
             [
              0.3333333333333333,
              "#9c179e"
             ],
             [
              0.4444444444444444,
              "#bd3786"
             ],
             [
              0.5555555555555556,
              "#d8576b"
             ],
             [
              0.6666666666666666,
              "#ed7953"
             ],
             [
              0.7777777777777778,
              "#fb9f3a"
             ],
             [
              0.8888888888888888,
              "#fdca26"
             ],
             [
              1,
              "#f0f921"
             ]
            ],
            "type": "heatmapgl"
           }
          ],
          "histogram": [
           {
            "marker": {
             "colorbar": {
              "outlinewidth": 0,
              "ticks": ""
             }
            },
            "type": "histogram"
           }
          ],
          "histogram2d": [
           {
            "colorbar": {
             "outlinewidth": 0,
             "ticks": ""
            },
            "colorscale": [
             [
              0,
              "#0d0887"
             ],
             [
              0.1111111111111111,
              "#46039f"
             ],
             [
              0.2222222222222222,
              "#7201a8"
             ],
             [
              0.3333333333333333,
              "#9c179e"
             ],
             [
              0.4444444444444444,
              "#bd3786"
             ],
             [
              0.5555555555555556,
              "#d8576b"
             ],
             [
              0.6666666666666666,
              "#ed7953"
             ],
             [
              0.7777777777777778,
              "#fb9f3a"
             ],
             [
              0.8888888888888888,
              "#fdca26"
             ],
             [
              1,
              "#f0f921"
             ]
            ],
            "type": "histogram2d"
           }
          ],
          "histogram2dcontour": [
           {
            "colorbar": {
             "outlinewidth": 0,
             "ticks": ""
            },
            "colorscale": [
             [
              0,
              "#0d0887"
             ],
             [
              0.1111111111111111,
              "#46039f"
             ],
             [
              0.2222222222222222,
              "#7201a8"
             ],
             [
              0.3333333333333333,
              "#9c179e"
             ],
             [
              0.4444444444444444,
              "#bd3786"
             ],
             [
              0.5555555555555556,
              "#d8576b"
             ],
             [
              0.6666666666666666,
              "#ed7953"
             ],
             [
              0.7777777777777778,
              "#fb9f3a"
             ],
             [
              0.8888888888888888,
              "#fdca26"
             ],
             [
              1,
              "#f0f921"
             ]
            ],
            "type": "histogram2dcontour"
           }
          ],
          "mesh3d": [
           {
            "colorbar": {
             "outlinewidth": 0,
             "ticks": ""
            },
            "type": "mesh3d"
           }
          ],
          "parcoords": [
           {
            "line": {
             "colorbar": {
              "outlinewidth": 0,
              "ticks": ""
             }
            },
            "type": "parcoords"
           }
          ],
          "scatter": [
           {
            "marker": {
             "colorbar": {
              "outlinewidth": 0,
              "ticks": ""
             }
            },
            "type": "scatter"
           }
          ],
          "scatter3d": [
           {
            "line": {
             "colorbar": {
              "outlinewidth": 0,
              "ticks": ""
             }
            },
            "marker": {
             "colorbar": {
              "outlinewidth": 0,
              "ticks": ""
             }
            },
            "type": "scatter3d"
           }
          ],
          "scattercarpet": [
           {
            "marker": {
             "colorbar": {
              "outlinewidth": 0,
              "ticks": ""
             }
            },
            "type": "scattercarpet"
           }
          ],
          "scattergeo": [
           {
            "marker": {
             "colorbar": {
              "outlinewidth": 0,
              "ticks": ""
             }
            },
            "type": "scattergeo"
           }
          ],
          "scattergl": [
           {
            "marker": {
             "colorbar": {
              "outlinewidth": 0,
              "ticks": ""
             }
            },
            "type": "scattergl"
           }
          ],
          "scattermapbox": [
           {
            "marker": {
             "colorbar": {
              "outlinewidth": 0,
              "ticks": ""
             }
            },
            "type": "scattermapbox"
           }
          ],
          "scatterpolar": [
           {
            "marker": {
             "colorbar": {
              "outlinewidth": 0,
              "ticks": ""
             }
            },
            "type": "scatterpolar"
           }
          ],
          "scatterpolargl": [
           {
            "marker": {
             "colorbar": {
              "outlinewidth": 0,
              "ticks": ""
             }
            },
            "type": "scatterpolargl"
           }
          ],
          "scatterternary": [
           {
            "marker": {
             "colorbar": {
              "outlinewidth": 0,
              "ticks": ""
             }
            },
            "type": "scatterternary"
           }
          ],
          "surface": [
           {
            "colorbar": {
             "outlinewidth": 0,
             "ticks": ""
            },
            "colorscale": [
             [
              0,
              "#0d0887"
             ],
             [
              0.1111111111111111,
              "#46039f"
             ],
             [
              0.2222222222222222,
              "#7201a8"
             ],
             [
              0.3333333333333333,
              "#9c179e"
             ],
             [
              0.4444444444444444,
              "#bd3786"
             ],
             [
              0.5555555555555556,
              "#d8576b"
             ],
             [
              0.6666666666666666,
              "#ed7953"
             ],
             [
              0.7777777777777778,
              "#fb9f3a"
             ],
             [
              0.8888888888888888,
              "#fdca26"
             ],
             [
              1,
              "#f0f921"
             ]
            ],
            "type": "surface"
           }
          ],
          "table": [
           {
            "cells": {
             "fill": {
              "color": "#EBF0F8"
             },
             "line": {
              "color": "white"
             }
            },
            "header": {
             "fill": {
              "color": "#C8D4E3"
             },
             "line": {
              "color": "white"
             }
            },
            "type": "table"
           }
          ]
         },
         "layout": {
          "annotationdefaults": {
           "arrowcolor": "#2a3f5f",
           "arrowhead": 0,
           "arrowwidth": 1
          },
          "colorscale": {
           "diverging": [
            [
             0,
             "#8e0152"
            ],
            [
             0.1,
             "#c51b7d"
            ],
            [
             0.2,
             "#de77ae"
            ],
            [
             0.3,
             "#f1b6da"
            ],
            [
             0.4,
             "#fde0ef"
            ],
            [
             0.5,
             "#f7f7f7"
            ],
            [
             0.6,
             "#e6f5d0"
            ],
            [
             0.7,
             "#b8e186"
            ],
            [
             0.8,
             "#7fbc41"
            ],
            [
             0.9,
             "#4d9221"
            ],
            [
             1,
             "#276419"
            ]
           ],
           "sequential": [
            [
             0,
             "#0d0887"
            ],
            [
             0.1111111111111111,
             "#46039f"
            ],
            [
             0.2222222222222222,
             "#7201a8"
            ],
            [
             0.3333333333333333,
             "#9c179e"
            ],
            [
             0.4444444444444444,
             "#bd3786"
            ],
            [
             0.5555555555555556,
             "#d8576b"
            ],
            [
             0.6666666666666666,
             "#ed7953"
            ],
            [
             0.7777777777777778,
             "#fb9f3a"
            ],
            [
             0.8888888888888888,
             "#fdca26"
            ],
            [
             1,
             "#f0f921"
            ]
           ],
           "sequentialminus": [
            [
             0,
             "#0d0887"
            ],
            [
             0.1111111111111111,
             "#46039f"
            ],
            [
             0.2222222222222222,
             "#7201a8"
            ],
            [
             0.3333333333333333,
             "#9c179e"
            ],
            [
             0.4444444444444444,
             "#bd3786"
            ],
            [
             0.5555555555555556,
             "#d8576b"
            ],
            [
             0.6666666666666666,
             "#ed7953"
            ],
            [
             0.7777777777777778,
             "#fb9f3a"
            ],
            [
             0.8888888888888888,
             "#fdca26"
            ],
            [
             1,
             "#f0f921"
            ]
           ]
          },
          "colorway": [
           "#636efa",
           "#EF553B",
           "#00cc96",
           "#ab63fa",
           "#FFA15A",
           "#19d3f3",
           "#FF6692",
           "#B6E880",
           "#FF97FF",
           "#FECB52"
          ],
          "font": {
           "color": "#2a3f5f"
          },
          "geo": {
           "bgcolor": "white",
           "lakecolor": "white",
           "landcolor": "#E5ECF6",
           "showlakes": true,
           "showland": true,
           "subunitcolor": "white"
          },
          "hoverlabel": {
           "align": "left"
          },
          "hovermode": "closest",
          "mapbox": {
           "style": "light"
          },
          "paper_bgcolor": "white",
          "plot_bgcolor": "#E5ECF6",
          "polar": {
           "angularaxis": {
            "gridcolor": "white",
            "linecolor": "white",
            "ticks": ""
           },
           "bgcolor": "#E5ECF6",
           "radialaxis": {
            "gridcolor": "white",
            "linecolor": "white",
            "ticks": ""
           }
          },
          "scene": {
           "xaxis": {
            "backgroundcolor": "#E5ECF6",
            "gridcolor": "white",
            "gridwidth": 2,
            "linecolor": "white",
            "showbackground": true,
            "ticks": "",
            "zerolinecolor": "white"
           },
           "yaxis": {
            "backgroundcolor": "#E5ECF6",
            "gridcolor": "white",
            "gridwidth": 2,
            "linecolor": "white",
            "showbackground": true,
            "ticks": "",
            "zerolinecolor": "white"
           },
           "zaxis": {
            "backgroundcolor": "#E5ECF6",
            "gridcolor": "white",
            "gridwidth": 2,
            "linecolor": "white",
            "showbackground": true,
            "ticks": "",
            "zerolinecolor": "white"
           }
          },
          "shapedefaults": {
           "line": {
            "color": "#2a3f5f"
           }
          },
          "ternary": {
           "aaxis": {
            "gridcolor": "white",
            "linecolor": "white",
            "ticks": ""
           },
           "baxis": {
            "gridcolor": "white",
            "linecolor": "white",
            "ticks": ""
           },
           "bgcolor": "#E5ECF6",
           "caxis": {
            "gridcolor": "white",
            "linecolor": "white",
            "ticks": ""
           }
          },
          "title": {
           "x": 0.05
          },
          "xaxis": {
           "automargin": true,
           "gridcolor": "white",
           "linecolor": "white",
           "ticks": "",
           "zerolinecolor": "white",
           "zerolinewidth": 2
          },
          "yaxis": {
           "automargin": true,
           "gridcolor": "white",
           "linecolor": "white",
           "ticks": "",
           "zerolinecolor": "white",
           "zerolinewidth": 2
          }
         }
        },
        "title": {
         "text": "Flower Sepal Length and Width"
        },
        "xaxis": {
         "anchor": "y",
         "domain": [
          0,
          0.98
         ],
         "title": {
          "text": "sepal width (cm)"
         }
        },
        "yaxis": {
         "anchor": "x",
         "domain": [
          0,
          1
         ],
         "title": {
          "text": "sepal length (cm)"
         }
        }
       }
      }
     },
     "metadata": {}
    }
   ],
   "source": [
    "# use plotly express to plot a scatter plot of sepal length and sepal width colored by flower_type\n",
    "import plotly.express as px\n",
    "\n",
    "setosa = df.loc[df['flower_type']=='setosa']\n",
    "versicolor = df.loc[df['flower_type']=='versicolor']\n",
    "virginica = df.loc[df['flower_type']=='virginica']\n",
    "# fig = px.scatter(setosa, x='sepal width (cm)', y=\"sepal length (cm)\")\n",
    "# fig = px.scatter(versicolor, x='sepal width (cm)', y=\"sepal length (cm)\")\n",
    "# fig = px.scatter(virginica, x='sepal width (cm)', y=\"sepal length (cm)\")\n",
    "fig = px.scatter(df, x=\"sepal width (cm)\", y=\"sepal length (cm)\", color=\"flower_type\")\n",
    "fig.update_layout(title='Flower Sepal Length and Width')\n",
    "fig.show()"
   ]
  },
  {
   "cell_type": "code",
   "execution_count": 24,
   "metadata": {},
   "outputs": [
    {
     "output_type": "execute_result",
     "data": {
      "text/plain": "Text(0.5, 1.0, 'Flower Sepal Length and Width')"
     },
     "metadata": {},
     "execution_count": 24
    },
    {
     "output_type": "display_data",
     "data": {
      "text/plain": "<Figure size 432x288 with 1 Axes>",
      "image/svg+xml": "<?xml version=\"1.0\" encoding=\"utf-8\" standalone=\"no\"?>\r\n<!DOCTYPE svg PUBLIC \"-//W3C//DTD SVG 1.1//EN\"\r\n  \"http://www.w3.org/Graphics/SVG/1.1/DTD/svg11.dtd\">\r\n<!-- Created with matplotlib (https://matplotlib.org/) -->\r\n<svg height=\"277.314375pt\" version=\"1.1\" viewBox=\"0 0 389.853315 277.314375\" width=\"389.853315pt\" xmlns=\"http://www.w3.org/2000/svg\" xmlns:xlink=\"http://www.w3.org/1999/xlink\">\r\n <defs>\r\n  <style type=\"text/css\">\r\n*{stroke-linecap:butt;stroke-linejoin:round;}\r\n  </style>\r\n </defs>\r\n <g id=\"figure_1\">\r\n  <g id=\"patch_1\">\r\n   <path d=\"M 0 277.314375 \r\nL 389.853315 277.314375 \r\nL 389.853315 0 \r\nL 0 0 \r\nz\r\n\" style=\"fill:none;\"/>\r\n  </g>\r\n  <g id=\"axes_1\">\r\n   <g id=\"patch_2\">\r\n    <path d=\"M 43.78125 239.758125 \r\nL 378.58125 239.758125 \r\nL 378.58125 22.318125 \r\nL 43.78125 22.318125 \r\nz\r\n\" style=\"fill:#ffffff;\"/>\r\n   </g>\r\n   <g id=\"PathCollection_1\">\r\n    <defs>\r\n     <path d=\"M 0 3 \r\nC 0.795609 3 1.55874 2.683901 2.12132 2.12132 \r\nC 2.683901 1.55874 3 0.795609 3 0 \r\nC 3 -0.795609 2.683901 -1.55874 2.12132 -2.12132 \r\nC 1.55874 -2.683901 0.795609 -3 0 -3 \r\nC -0.795609 -3 -1.55874 -2.683901 -2.12132 -2.12132 \r\nC -2.683901 -1.55874 -3 -0.795609 -3 0 \r\nC -3 0.795609 -2.683901 1.55874 -2.12132 2.12132 \r\nC -1.55874 2.683901 -0.795609 3 0 3 \r\nz\r\n\" id=\"C0_0_cf2fdc3743\"/>\r\n    </defs>\r\n    <g clip-path=\"url(#pd5877d26fa)\">\r\n     <use style=\"fill:#1f77b4;stroke:#ffffff;stroke-width:0.75;\" x=\"248.91675\" xlink:href=\"#C0_0_cf2fdc3743\" y=\"185.488124\"/>\r\n    </g>\r\n    <g clip-path=\"url(#pd5877d26fa)\">\r\n     <use style=\"fill:#1f77b4;stroke:#ffffff;stroke-width:0.75;\" x=\"186.02425\" xlink:href=\"#C0_0_cf2fdc3743\" y=\"196.378124\"/>\r\n    </g>\r\n    <g clip-path=\"url(#pd5877d26fa)\">\r\n     <use style=\"fill:#1f77b4;stroke:#ffffff;stroke-width:0.75;\" x=\"211.18125\" xlink:href=\"#C0_0_cf2fdc3743\" y=\"207.268123\"/>\r\n    </g>\r\n    <g clip-path=\"url(#pd5877d26fa)\">\r\n     <use style=\"fill:#1f77b4;stroke:#ffffff;stroke-width:0.75;\" x=\"198.60275\" xlink:href=\"#C0_0_cf2fdc3743\" y=\"212.713123\"/>\r\n    </g>\r\n    <g clip-path=\"url(#pd5877d26fa)\">\r\n     <use style=\"fill:#1f77b4;stroke:#ffffff;stroke-width:0.75;\" x=\"261.495251\" xlink:href=\"#C0_0_cf2fdc3743\" y=\"190.933124\"/>\r\n    </g>\r\n    <g clip-path=\"url(#pd5877d26fa)\">\r\n     <use style=\"fill:#1f77b4;stroke:#ffffff;stroke-width:0.75;\" x=\"299.230751\" xlink:href=\"#C0_0_cf2fdc3743\" y=\"169.153124\"/>\r\n    </g>\r\n    <g clip-path=\"url(#pd5877d26fa)\">\r\n     <use style=\"fill:#1f77b4;stroke:#ffffff;stroke-width:0.75;\" x=\"236.33825\" xlink:href=\"#C0_0_cf2fdc3743\" y=\"212.713123\"/>\r\n    </g>\r\n    <g clip-path=\"url(#pd5877d26fa)\">\r\n     <use style=\"fill:#1f77b4;stroke:#ffffff;stroke-width:0.75;\" x=\"236.33825\" xlink:href=\"#C0_0_cf2fdc3743\" y=\"190.933124\"/>\r\n    </g>\r\n    <g clip-path=\"url(#pd5877d26fa)\">\r\n     <use style=\"fill:#1f77b4;stroke:#ffffff;stroke-width:0.75;\" x=\"173.44575\" xlink:href=\"#C0_0_cf2fdc3743\" y=\"223.603123\"/>\r\n    </g>\r\n    <g clip-path=\"url(#pd5877d26fa)\">\r\n     <use style=\"fill:#1f77b4;stroke:#ffffff;stroke-width:0.75;\" x=\"198.60275\" xlink:href=\"#C0_0_cf2fdc3743\" y=\"196.378124\"/>\r\n    </g>\r\n    <g clip-path=\"url(#pd5877d26fa)\">\r\n     <use style=\"fill:#1f77b4;stroke:#ffffff;stroke-width:0.75;\" x=\"274.073751\" xlink:href=\"#C0_0_cf2fdc3743\" y=\"169.153124\"/>\r\n    </g>\r\n    <g clip-path=\"url(#pd5877d26fa)\">\r\n     <use style=\"fill:#1f77b4;stroke:#ffffff;stroke-width:0.75;\" x=\"236.33825\" xlink:href=\"#C0_0_cf2fdc3743\" y=\"201.823123\"/>\r\n    </g>\r\n    <g clip-path=\"url(#pd5877d26fa)\">\r\n     <use style=\"fill:#1f77b4;stroke:#ffffff;stroke-width:0.75;\" x=\"186.02425\" xlink:href=\"#C0_0_cf2fdc3743\" y=\"201.823123\"/>\r\n    </g>\r\n    <g clip-path=\"url(#pd5877d26fa)\">\r\n     <use style=\"fill:#1f77b4;stroke:#ffffff;stroke-width:0.75;\" x=\"186.02425\" xlink:href=\"#C0_0_cf2fdc3743\" y=\"229.048123\"/>\r\n    </g>\r\n    <g clip-path=\"url(#pd5877d26fa)\">\r\n     <use style=\"fill:#1f77b4;stroke:#ffffff;stroke-width:0.75;\" x=\"311.809251\" xlink:href=\"#C0_0_cf2fdc3743\" y=\"147.373125\"/>\r\n    </g>\r\n    <g clip-path=\"url(#pd5877d26fa)\">\r\n     <use style=\"fill:#1f77b4;stroke:#ffffff;stroke-width:0.75;\" x=\"362.123252\" xlink:href=\"#C0_0_cf2fdc3743\" y=\"152.818125\"/>\r\n    </g>\r\n    <g clip-path=\"url(#pd5877d26fa)\">\r\n     <use style=\"fill:#1f77b4;stroke:#ffffff;stroke-width:0.75;\" x=\"299.230751\" xlink:href=\"#C0_0_cf2fdc3743\" y=\"169.153124\"/>\r\n    </g>\r\n    <g clip-path=\"url(#pd5877d26fa)\">\r\n     <use style=\"fill:#1f77b4;stroke:#ffffff;stroke-width:0.75;\" x=\"248.91675\" xlink:href=\"#C0_0_cf2fdc3743\" y=\"185.488124\"/>\r\n    </g>\r\n    <g clip-path=\"url(#pd5877d26fa)\">\r\n     <use style=\"fill:#1f77b4;stroke:#ffffff;stroke-width:0.75;\" x=\"286.652251\" xlink:href=\"#C0_0_cf2fdc3743\" y=\"152.818125\"/>\r\n    </g>\r\n    <g clip-path=\"url(#pd5877d26fa)\">\r\n     <use style=\"fill:#1f77b4;stroke:#ffffff;stroke-width:0.75;\" x=\"286.652251\" xlink:href=\"#C0_0_cf2fdc3743\" y=\"185.488124\"/>\r\n    </g>\r\n    <g clip-path=\"url(#pd5877d26fa)\">\r\n     <use style=\"fill:#1f77b4;stroke:#ffffff;stroke-width:0.75;\" x=\"236.33825\" xlink:href=\"#C0_0_cf2fdc3743\" y=\"169.153124\"/>\r\n    </g>\r\n    <g clip-path=\"url(#pd5877d26fa)\">\r\n     <use style=\"fill:#1f77b4;stroke:#ffffff;stroke-width:0.75;\" x=\"274.073751\" xlink:href=\"#C0_0_cf2fdc3743\" y=\"185.488124\"/>\r\n    </g>\r\n    <g clip-path=\"url(#pd5877d26fa)\">\r\n     <use style=\"fill:#1f77b4;stroke:#ffffff;stroke-width:0.75;\" x=\"261.495251\" xlink:href=\"#C0_0_cf2fdc3743\" y=\"212.713123\"/>\r\n    </g>\r\n    <g clip-path=\"url(#pd5877d26fa)\">\r\n     <use style=\"fill:#1f77b4;stroke:#ffffff;stroke-width:0.75;\" x=\"223.75975\" xlink:href=\"#C0_0_cf2fdc3743\" y=\"185.488124\"/>\r\n    </g>\r\n    <g clip-path=\"url(#pd5877d26fa)\">\r\n     <use style=\"fill:#1f77b4;stroke:#ffffff;stroke-width:0.75;\" x=\"236.33825\" xlink:href=\"#C0_0_cf2fdc3743\" y=\"201.823123\"/>\r\n    </g>\r\n    <g clip-path=\"url(#pd5877d26fa)\">\r\n     <use style=\"fill:#1f77b4;stroke:#ffffff;stroke-width:0.75;\" x=\"186.02425\" xlink:href=\"#C0_0_cf2fdc3743\" y=\"190.933124\"/>\r\n    </g>\r\n    <g clip-path=\"url(#pd5877d26fa)\">\r\n     <use style=\"fill:#1f77b4;stroke:#ffffff;stroke-width:0.75;\" x=\"236.33825\" xlink:href=\"#C0_0_cf2fdc3743\" y=\"190.933124\"/>\r\n    </g>\r\n    <g clip-path=\"url(#pd5877d26fa)\">\r\n     <use style=\"fill:#1f77b4;stroke:#ffffff;stroke-width:0.75;\" x=\"248.91675\" xlink:href=\"#C0_0_cf2fdc3743\" y=\"180.043124\"/>\r\n    </g>\r\n    <g clip-path=\"url(#pd5877d26fa)\">\r\n     <use style=\"fill:#1f77b4;stroke:#ffffff;stroke-width:0.75;\" x=\"236.33825\" xlink:href=\"#C0_0_cf2fdc3743\" y=\"180.043124\"/>\r\n    </g>\r\n    <g clip-path=\"url(#pd5877d26fa)\">\r\n     <use style=\"fill:#1f77b4;stroke:#ffffff;stroke-width:0.75;\" x=\"211.18125\" xlink:href=\"#C0_0_cf2fdc3743\" y=\"207.268123\"/>\r\n    </g>\r\n    <g clip-path=\"url(#pd5877d26fa)\">\r\n     <use style=\"fill:#1f77b4;stroke:#ffffff;stroke-width:0.75;\" x=\"198.60275\" xlink:href=\"#C0_0_cf2fdc3743\" y=\"201.823123\"/>\r\n    </g>\r\n    <g clip-path=\"url(#pd5877d26fa)\">\r\n     <use style=\"fill:#1f77b4;stroke:#ffffff;stroke-width:0.75;\" x=\"236.33825\" xlink:href=\"#C0_0_cf2fdc3743\" y=\"169.153124\"/>\r\n    </g>\r\n    <g clip-path=\"url(#pd5877d26fa)\">\r\n     <use style=\"fill:#1f77b4;stroke:#ffffff;stroke-width:0.75;\" x=\"324.387751\" xlink:href=\"#C0_0_cf2fdc3743\" y=\"180.043124\"/>\r\n    </g>\r\n    <g clip-path=\"url(#pd5877d26fa)\">\r\n     <use style=\"fill:#1f77b4;stroke:#ffffff;stroke-width:0.75;\" x=\"336.966252\" xlink:href=\"#C0_0_cf2fdc3743\" y=\"163.708124\"/>\r\n    </g>\r\n    <g clip-path=\"url(#pd5877d26fa)\">\r\n     <use style=\"fill:#1f77b4;stroke:#ffffff;stroke-width:0.75;\" x=\"198.60275\" xlink:href=\"#C0_0_cf2fdc3743\" y=\"196.378124\"/>\r\n    </g>\r\n    <g clip-path=\"url(#pd5877d26fa)\">\r\n     <use style=\"fill:#1f77b4;stroke:#ffffff;stroke-width:0.75;\" x=\"211.18125\" xlink:href=\"#C0_0_cf2fdc3743\" y=\"190.933124\"/>\r\n    </g>\r\n    <g clip-path=\"url(#pd5877d26fa)\">\r\n     <use style=\"fill:#1f77b4;stroke:#ffffff;stroke-width:0.75;\" x=\"248.91675\" xlink:href=\"#C0_0_cf2fdc3743\" y=\"163.708124\"/>\r\n    </g>\r\n    <g clip-path=\"url(#pd5877d26fa)\">\r\n     <use style=\"fill:#1f77b4;stroke:#ffffff;stroke-width:0.75;\" x=\"261.495251\" xlink:href=\"#C0_0_cf2fdc3743\" y=\"196.378124\"/>\r\n    </g>\r\n    <g clip-path=\"url(#pd5877d26fa)\">\r\n     <use style=\"fill:#1f77b4;stroke:#ffffff;stroke-width:0.75;\" x=\"186.02425\" xlink:href=\"#C0_0_cf2fdc3743\" y=\"223.603123\"/>\r\n    </g>\r\n    <g clip-path=\"url(#pd5877d26fa)\">\r\n     <use style=\"fill:#1f77b4;stroke:#ffffff;stroke-width:0.75;\" x=\"236.33825\" xlink:href=\"#C0_0_cf2fdc3743\" y=\"185.488124\"/>\r\n    </g>\r\n    <g clip-path=\"url(#pd5877d26fa)\">\r\n     <use style=\"fill:#1f77b4;stroke:#ffffff;stroke-width:0.75;\" x=\"248.91675\" xlink:href=\"#C0_0_cf2fdc3743\" y=\"190.933124\"/>\r\n    </g>\r\n    <g clip-path=\"url(#pd5877d26fa)\">\r\n     <use style=\"fill:#1f77b4;stroke:#ffffff;stroke-width:0.75;\" x=\"97.974749\" xlink:href=\"#C0_0_cf2fdc3743\" y=\"218.158123\"/>\r\n    </g>\r\n    <g clip-path=\"url(#pd5877d26fa)\">\r\n     <use style=\"fill:#1f77b4;stroke:#ffffff;stroke-width:0.75;\" x=\"211.18125\" xlink:href=\"#C0_0_cf2fdc3743\" y=\"223.603123\"/>\r\n    </g>\r\n    <g clip-path=\"url(#pd5877d26fa)\">\r\n     <use style=\"fill:#1f77b4;stroke:#ffffff;stroke-width:0.75;\" x=\"248.91675\" xlink:href=\"#C0_0_cf2fdc3743\" y=\"190.933124\"/>\r\n    </g>\r\n    <g clip-path=\"url(#pd5877d26fa)\">\r\n     <use style=\"fill:#1f77b4;stroke:#ffffff;stroke-width:0.75;\" x=\"286.652251\" xlink:href=\"#C0_0_cf2fdc3743\" y=\"185.488124\"/>\r\n    </g>\r\n    <g clip-path=\"url(#pd5877d26fa)\">\r\n     <use style=\"fill:#1f77b4;stroke:#ffffff;stroke-width:0.75;\" x=\"186.02425\" xlink:href=\"#C0_0_cf2fdc3743\" y=\"201.823123\"/>\r\n    </g>\r\n    <g clip-path=\"url(#pd5877d26fa)\">\r\n     <use style=\"fill:#1f77b4;stroke:#ffffff;stroke-width:0.75;\" x=\"286.652251\" xlink:href=\"#C0_0_cf2fdc3743\" y=\"185.488124\"/>\r\n    </g>\r\n    <g clip-path=\"url(#pd5877d26fa)\">\r\n     <use style=\"fill:#1f77b4;stroke:#ffffff;stroke-width:0.75;\" x=\"211.18125\" xlink:href=\"#C0_0_cf2fdc3743\" y=\"212.713123\"/>\r\n    </g>\r\n    <g clip-path=\"url(#pd5877d26fa)\">\r\n     <use style=\"fill:#1f77b4;stroke:#ffffff;stroke-width:0.75;\" x=\"274.073751\" xlink:href=\"#C0_0_cf2fdc3743\" y=\"174.598124\"/>\r\n    </g>\r\n    <g clip-path=\"url(#pd5877d26fa)\">\r\n     <use style=\"fill:#1f77b4;stroke:#ffffff;stroke-width:0.75;\" x=\"223.75975\" xlink:href=\"#C0_0_cf2fdc3743\" y=\"190.933124\"/>\r\n    </g>\r\n    <g clip-path=\"url(#pd5877d26fa)\">\r\n     <use style=\"fill:#ff7f0e;stroke:#ffffff;stroke-width:0.75;\" x=\"211.18125\" xlink:href=\"#C0_0_cf2fdc3743\" y=\"82.033126\"/>\r\n    </g>\r\n    <g clip-path=\"url(#pd5877d26fa)\">\r\n     <use style=\"fill:#ff7f0e;stroke:#ffffff;stroke-width:0.75;\" x=\"211.18125\" xlink:href=\"#C0_0_cf2fdc3743\" y=\"114.703125\"/>\r\n    </g>\r\n    <g clip-path=\"url(#pd5877d26fa)\">\r\n     <use style=\"fill:#ff7f0e;stroke:#ffffff;stroke-width:0.75;\" x=\"198.60275\" xlink:href=\"#C0_0_cf2fdc3743\" y=\"87.478126\"/>\r\n    </g>\r\n    <g clip-path=\"url(#pd5877d26fa)\">\r\n     <use style=\"fill:#ff7f0e;stroke:#ffffff;stroke-width:0.75;\" x=\"97.974749\" xlink:href=\"#C0_0_cf2fdc3743\" y=\"163.708124\"/>\r\n    </g>\r\n    <g clip-path=\"url(#pd5877d26fa)\">\r\n     <use style=\"fill:#ff7f0e;stroke:#ffffff;stroke-width:0.75;\" x=\"160.867249\" xlink:href=\"#C0_0_cf2fdc3743\" y=\"109.258125\"/>\r\n    </g>\r\n    <g clip-path=\"url(#pd5877d26fa)\">\r\n     <use style=\"fill:#ff7f0e;stroke:#ffffff;stroke-width:0.75;\" x=\"160.867249\" xlink:href=\"#C0_0_cf2fdc3743\" y=\"152.818125\"/>\r\n    </g>\r\n    <g clip-path=\"url(#pd5877d26fa)\">\r\n     <use style=\"fill:#ff7f0e;stroke:#ffffff;stroke-width:0.75;\" x=\"223.75975\" xlink:href=\"#C0_0_cf2fdc3743\" y=\"120.148125\"/>\r\n    </g>\r\n    <g clip-path=\"url(#pd5877d26fa)\">\r\n     <use style=\"fill:#ff7f0e;stroke:#ffffff;stroke-width:0.75;\" x=\"110.553249\" xlink:href=\"#C0_0_cf2fdc3743\" y=\"196.378124\"/>\r\n    </g>\r\n    <g clip-path=\"url(#pd5877d26fa)\">\r\n     <use style=\"fill:#ff7f0e;stroke:#ffffff;stroke-width:0.75;\" x=\"173.44575\" xlink:href=\"#C0_0_cf2fdc3743\" y=\"103.813126\"/>\r\n    </g>\r\n    <g clip-path=\"url(#pd5877d26fa)\">\r\n     <use style=\"fill:#ff7f0e;stroke:#ffffff;stroke-width:0.75;\" x=\"148.288749\" xlink:href=\"#C0_0_cf2fdc3743\" y=\"180.043124\"/>\r\n    </g>\r\n    <g clip-path=\"url(#pd5877d26fa)\">\r\n     <use style=\"fill:#ff7f0e;stroke:#ffffff;stroke-width:0.75;\" x=\"60.239248\" xlink:href=\"#C0_0_cf2fdc3743\" y=\"190.933124\"/>\r\n    </g>\r\n    <g clip-path=\"url(#pd5877d26fa)\">\r\n     <use style=\"fill:#ff7f0e;stroke:#ffffff;stroke-width:0.75;\" x=\"186.02425\" xlink:href=\"#C0_0_cf2fdc3743\" y=\"141.928125\"/>\r\n    </g>\r\n    <g clip-path=\"url(#pd5877d26fa)\">\r\n     <use style=\"fill:#ff7f0e;stroke:#ffffff;stroke-width:0.75;\" x=\"85.396248\" xlink:href=\"#C0_0_cf2fdc3743\" y=\"136.483125\"/>\r\n    </g>\r\n    <g clip-path=\"url(#pd5877d26fa)\">\r\n     <use style=\"fill:#ff7f0e;stroke:#ffffff;stroke-width:0.75;\" x=\"173.44575\" xlink:href=\"#C0_0_cf2fdc3743\" y=\"131.038125\"/>\r\n    </g>\r\n    <g clip-path=\"url(#pd5877d26fa)\">\r\n     <use style=\"fill:#ff7f0e;stroke:#ffffff;stroke-width:0.75;\" x=\"173.44575\" xlink:href=\"#C0_0_cf2fdc3743\" y=\"158.263124\"/>\r\n    </g>\r\n    <g clip-path=\"url(#pd5877d26fa)\">\r\n     <use style=\"fill:#ff7f0e;stroke:#ffffff;stroke-width:0.75;\" x=\"198.60275\" xlink:href=\"#C0_0_cf2fdc3743\" y=\"98.368126\"/>\r\n    </g>\r\n    <g clip-path=\"url(#pd5877d26fa)\">\r\n     <use style=\"fill:#ff7f0e;stroke:#ffffff;stroke-width:0.75;\" x=\"186.02425\" xlink:href=\"#C0_0_cf2fdc3743\" y=\"158.263124\"/>\r\n    </g>\r\n    <g clip-path=\"url(#pd5877d26fa)\">\r\n     <use style=\"fill:#ff7f0e;stroke:#ffffff;stroke-width:0.75;\" x=\"148.288749\" xlink:href=\"#C0_0_cf2fdc3743\" y=\"147.373125\"/>\r\n    </g>\r\n    <g clip-path=\"url(#pd5877d26fa)\">\r\n     <use style=\"fill:#ff7f0e;stroke:#ffffff;stroke-width:0.75;\" x=\"85.396248\" xlink:href=\"#C0_0_cf2fdc3743\" y=\"125.593125\"/>\r\n    </g>\r\n    <g clip-path=\"url(#pd5877d26fa)\">\r\n     <use style=\"fill:#ff7f0e;stroke:#ffffff;stroke-width:0.75;\" x=\"123.131749\" xlink:href=\"#C0_0_cf2fdc3743\" y=\"158.263124\"/>\r\n    </g>\r\n    <g clip-path=\"url(#pd5877d26fa)\">\r\n     <use style=\"fill:#ff7f0e;stroke:#ffffff;stroke-width:0.75;\" x=\"211.18125\" xlink:href=\"#C0_0_cf2fdc3743\" y=\"141.928125\"/>\r\n    </g>\r\n    <g clip-path=\"url(#pd5877d26fa)\">\r\n     <use style=\"fill:#ff7f0e;stroke:#ffffff;stroke-width:0.75;\" x=\"160.867249\" xlink:href=\"#C0_0_cf2fdc3743\" y=\"131.038125\"/>\r\n    </g>\r\n    <g clip-path=\"url(#pd5877d26fa)\">\r\n     <use style=\"fill:#ff7f0e;stroke:#ffffff;stroke-width:0.75;\" x=\"123.131749\" xlink:href=\"#C0_0_cf2fdc3743\" y=\"120.148125\"/>\r\n    </g>\r\n    <g clip-path=\"url(#pd5877d26fa)\">\r\n     <use style=\"fill:#ff7f0e;stroke:#ffffff;stroke-width:0.75;\" x=\"160.867249\" xlink:href=\"#C0_0_cf2fdc3743\" y=\"131.038125\"/>\r\n    </g>\r\n    <g clip-path=\"url(#pd5877d26fa)\">\r\n     <use style=\"fill:#ff7f0e;stroke:#ffffff;stroke-width:0.75;\" x=\"173.44575\" xlink:href=\"#C0_0_cf2fdc3743\" y=\"114.703125\"/>\r\n    </g>\r\n    <g clip-path=\"url(#pd5877d26fa)\">\r\n     <use style=\"fill:#ff7f0e;stroke:#ffffff;stroke-width:0.75;\" x=\"186.02425\" xlink:href=\"#C0_0_cf2fdc3743\" y=\"103.813126\"/>\r\n    </g>\r\n    <g clip-path=\"url(#pd5877d26fa)\">\r\n     <use style=\"fill:#ff7f0e;stroke:#ffffff;stroke-width:0.75;\" x=\"160.867249\" xlink:href=\"#C0_0_cf2fdc3743\" y=\"92.923126\"/>\r\n    </g>\r\n    <g clip-path=\"url(#pd5877d26fa)\">\r\n     <use style=\"fill:#ff7f0e;stroke:#ffffff;stroke-width:0.75;\" x=\"186.02425\" xlink:href=\"#C0_0_cf2fdc3743\" y=\"98.368126\"/>\r\n    </g>\r\n    <g clip-path=\"url(#pd5877d26fa)\">\r\n     <use style=\"fill:#ff7f0e;stroke:#ffffff;stroke-width:0.75;\" x=\"173.44575\" xlink:href=\"#C0_0_cf2fdc3743\" y=\"136.483125\"/>\r\n    </g>\r\n    <g clip-path=\"url(#pd5877d26fa)\">\r\n     <use style=\"fill:#ff7f0e;stroke:#ffffff;stroke-width:0.75;\" x=\"135.710249\" xlink:href=\"#C0_0_cf2fdc3743\" y=\"152.818125\"/>\r\n    </g>\r\n    <g clip-path=\"url(#pd5877d26fa)\">\r\n     <use style=\"fill:#ff7f0e;stroke:#ffffff;stroke-width:0.75;\" x=\"110.553249\" xlink:href=\"#C0_0_cf2fdc3743\" y=\"163.708124\"/>\r\n    </g>\r\n    <g clip-path=\"url(#pd5877d26fa)\">\r\n     <use style=\"fill:#ff7f0e;stroke:#ffffff;stroke-width:0.75;\" x=\"110.553249\" xlink:href=\"#C0_0_cf2fdc3743\" y=\"163.708124\"/>\r\n    </g>\r\n    <g clip-path=\"url(#pd5877d26fa)\">\r\n     <use style=\"fill:#ff7f0e;stroke:#ffffff;stroke-width:0.75;\" x=\"148.288749\" xlink:href=\"#C0_0_cf2fdc3743\" y=\"147.373125\"/>\r\n    </g>\r\n    <g clip-path=\"url(#pd5877d26fa)\">\r\n     <use style=\"fill:#ff7f0e;stroke:#ffffff;stroke-width:0.75;\" x=\"148.288749\" xlink:href=\"#C0_0_cf2fdc3743\" y=\"136.483125\"/>\r\n    </g>\r\n    <g clip-path=\"url(#pd5877d26fa)\">\r\n     <use style=\"fill:#ff7f0e;stroke:#ffffff;stroke-width:0.75;\" x=\"186.02425\" xlink:href=\"#C0_0_cf2fdc3743\" y=\"169.153124\"/>\r\n    </g>\r\n    <g clip-path=\"url(#pd5877d26fa)\">\r\n     <use style=\"fill:#ff7f0e;stroke:#ffffff;stroke-width:0.75;\" x=\"236.33825\" xlink:href=\"#C0_0_cf2fdc3743\" y=\"136.483125\"/>\r\n    </g>\r\n    <g clip-path=\"url(#pd5877d26fa)\">\r\n     <use style=\"fill:#ff7f0e;stroke:#ffffff;stroke-width:0.75;\" x=\"198.60275\" xlink:href=\"#C0_0_cf2fdc3743\" y=\"98.368126\"/>\r\n    </g>\r\n    <g clip-path=\"url(#pd5877d26fa)\">\r\n     <use style=\"fill:#ff7f0e;stroke:#ffffff;stroke-width:0.75;\" x=\"97.974749\" xlink:href=\"#C0_0_cf2fdc3743\" y=\"120.148125\"/>\r\n    </g>\r\n    <g clip-path=\"url(#pd5877d26fa)\">\r\n     <use style=\"fill:#ff7f0e;stroke:#ffffff;stroke-width:0.75;\" x=\"186.02425\" xlink:href=\"#C0_0_cf2fdc3743\" y=\"158.263124\"/>\r\n    </g>\r\n    <g clip-path=\"url(#pd5877d26fa)\">\r\n     <use style=\"fill:#ff7f0e;stroke:#ffffff;stroke-width:0.75;\" x=\"123.131749\" xlink:href=\"#C0_0_cf2fdc3743\" y=\"163.708124\"/>\r\n    </g>\r\n    <g clip-path=\"url(#pd5877d26fa)\">\r\n     <use style=\"fill:#ff7f0e;stroke:#ffffff;stroke-width:0.75;\" x=\"135.710249\" xlink:href=\"#C0_0_cf2fdc3743\" y=\"163.708124\"/>\r\n    </g>\r\n    <g clip-path=\"url(#pd5877d26fa)\">\r\n     <use style=\"fill:#ff7f0e;stroke:#ffffff;stroke-width:0.75;\" x=\"186.02425\" xlink:href=\"#C0_0_cf2fdc3743\" y=\"131.038125\"/>\r\n    </g>\r\n    <g clip-path=\"url(#pd5877d26fa)\">\r\n     <use style=\"fill:#ff7f0e;stroke:#ffffff;stroke-width:0.75;\" x=\"135.710249\" xlink:href=\"#C0_0_cf2fdc3743\" y=\"147.373125\"/>\r\n    </g>\r\n    <g clip-path=\"url(#pd5877d26fa)\">\r\n     <use style=\"fill:#ff7f0e;stroke:#ffffff;stroke-width:0.75;\" x=\"97.974749\" xlink:href=\"#C0_0_cf2fdc3743\" y=\"190.933124\"/>\r\n    </g>\r\n    <g clip-path=\"url(#pd5877d26fa)\">\r\n     <use style=\"fill:#ff7f0e;stroke:#ffffff;stroke-width:0.75;\" x=\"148.288749\" xlink:href=\"#C0_0_cf2fdc3743\" y=\"158.263124\"/>\r\n    </g>\r\n    <g clip-path=\"url(#pd5877d26fa)\">\r\n     <use style=\"fill:#ff7f0e;stroke:#ffffff;stroke-width:0.75;\" x=\"186.02425\" xlink:href=\"#C0_0_cf2fdc3743\" y=\"152.818125\"/>\r\n    </g>\r\n    <g clip-path=\"url(#pd5877d26fa)\">\r\n     <use style=\"fill:#ff7f0e;stroke:#ffffff;stroke-width:0.75;\" x=\"173.44575\" xlink:href=\"#C0_0_cf2fdc3743\" y=\"152.818125\"/>\r\n    </g>\r\n    <g clip-path=\"url(#pd5877d26fa)\">\r\n     <use style=\"fill:#ff7f0e;stroke:#ffffff;stroke-width:0.75;\" x=\"173.44575\" xlink:href=\"#C0_0_cf2fdc3743\" y=\"125.593125\"/>\r\n    </g>\r\n    <g clip-path=\"url(#pd5877d26fa)\">\r\n     <use style=\"fill:#ff7f0e;stroke:#ffffff;stroke-width:0.75;\" x=\"123.131749\" xlink:href=\"#C0_0_cf2fdc3743\" y=\"185.488124\"/>\r\n    </g>\r\n    <g clip-path=\"url(#pd5877d26fa)\">\r\n     <use style=\"fill:#ff7f0e;stroke:#ffffff;stroke-width:0.75;\" x=\"160.867249\" xlink:href=\"#C0_0_cf2fdc3743\" y=\"152.818125\"/>\r\n    </g>\r\n    <g clip-path=\"url(#pd5877d26fa)\">\r\n     <use style=\"fill:#2ca02c;stroke:#ffffff;stroke-width:0.75;\" x=\"223.75975\" xlink:href=\"#C0_0_cf2fdc3743\" y=\"120.148125\"/>\r\n    </g>\r\n    <g clip-path=\"url(#pd5877d26fa)\">\r\n     <use style=\"fill:#2ca02c;stroke:#ffffff;stroke-width:0.75;\" x=\"148.288749\" xlink:href=\"#C0_0_cf2fdc3743\" y=\"147.373125\"/>\r\n    </g>\r\n    <g clip-path=\"url(#pd5877d26fa)\">\r\n     <use style=\"fill:#2ca02c;stroke:#ffffff;stroke-width:0.75;\" x=\"186.02425\" xlink:href=\"#C0_0_cf2fdc3743\" y=\"76.588126\"/>\r\n    </g>\r\n    <g clip-path=\"url(#pd5877d26fa)\">\r\n     <use style=\"fill:#2ca02c;stroke:#ffffff;stroke-width:0.75;\" x=\"173.44575\" xlink:href=\"#C0_0_cf2fdc3743\" y=\"120.148125\"/>\r\n    </g>\r\n    <g clip-path=\"url(#pd5877d26fa)\">\r\n     <use style=\"fill:#2ca02c;stroke:#ffffff;stroke-width:0.75;\" x=\"186.02425\" xlink:href=\"#C0_0_cf2fdc3743\" y=\"109.258125\"/>\r\n    </g>\r\n    <g clip-path=\"url(#pd5877d26fa)\">\r\n     <use style=\"fill:#2ca02c;stroke:#ffffff;stroke-width:0.75;\" x=\"186.02425\" xlink:href=\"#C0_0_cf2fdc3743\" y=\"49.363127\"/>\r\n    </g>\r\n    <g clip-path=\"url(#pd5877d26fa)\">\r\n     <use style=\"fill:#2ca02c;stroke:#ffffff;stroke-width:0.75;\" x=\"123.131749\" xlink:href=\"#C0_0_cf2fdc3743\" y=\"196.378124\"/>\r\n    </g>\r\n    <g clip-path=\"url(#pd5877d26fa)\">\r\n     <use style=\"fill:#2ca02c;stroke:#ffffff;stroke-width:0.75;\" x=\"173.44575\" xlink:href=\"#C0_0_cf2fdc3743\" y=\"65.698126\"/>\r\n    </g>\r\n    <g clip-path=\"url(#pd5877d26fa)\">\r\n     <use style=\"fill:#2ca02c;stroke:#ffffff;stroke-width:0.75;\" x=\"123.131749\" xlink:href=\"#C0_0_cf2fdc3743\" y=\"98.368126\"/>\r\n    </g>\r\n    <g clip-path=\"url(#pd5877d26fa)\">\r\n     <use style=\"fill:#2ca02c;stroke:#ffffff;stroke-width:0.75;\" x=\"261.495251\" xlink:href=\"#C0_0_cf2fdc3743\" y=\"71.143126\"/>\r\n    </g>\r\n    <g clip-path=\"url(#pd5877d26fa)\">\r\n     <use style=\"fill:#2ca02c;stroke:#ffffff;stroke-width:0.75;\" x=\"211.18125\" xlink:href=\"#C0_0_cf2fdc3743\" y=\"109.258125\"/>\r\n    </g>\r\n    <g clip-path=\"url(#pd5877d26fa)\">\r\n     <use style=\"fill:#2ca02c;stroke:#ffffff;stroke-width:0.75;\" x=\"148.288749\" xlink:href=\"#C0_0_cf2fdc3743\" y=\"114.703125\"/>\r\n    </g>\r\n    <g clip-path=\"url(#pd5877d26fa)\">\r\n     <use style=\"fill:#2ca02c;stroke:#ffffff;stroke-width:0.75;\" x=\"186.02425\" xlink:href=\"#C0_0_cf2fdc3743\" y=\"92.923126\"/>\r\n    </g>\r\n    <g clip-path=\"url(#pd5877d26fa)\">\r\n     <use style=\"fill:#2ca02c;stroke:#ffffff;stroke-width:0.75;\" x=\"123.131749\" xlink:href=\"#C0_0_cf2fdc3743\" y=\"152.818125\"/>\r\n    </g>\r\n    <g clip-path=\"url(#pd5877d26fa)\">\r\n     <use style=\"fill:#2ca02c;stroke:#ffffff;stroke-width:0.75;\" x=\"160.867249\" xlink:href=\"#C0_0_cf2fdc3743\" y=\"147.373125\"/>\r\n    </g>\r\n    <g clip-path=\"url(#pd5877d26fa)\">\r\n     <use style=\"fill:#2ca02c;stroke:#ffffff;stroke-width:0.75;\" x=\"211.18125\" xlink:href=\"#C0_0_cf2fdc3743\" y=\"114.703125\"/>\r\n    </g>\r\n    <g clip-path=\"url(#pd5877d26fa)\">\r\n     <use style=\"fill:#2ca02c;stroke:#ffffff;stroke-width:0.75;\" x=\"186.02425\" xlink:href=\"#C0_0_cf2fdc3743\" y=\"109.258125\"/>\r\n    </g>\r\n    <g clip-path=\"url(#pd5877d26fa)\">\r\n     <use style=\"fill:#2ca02c;stroke:#ffffff;stroke-width:0.75;\" x=\"286.652251\" xlink:href=\"#C0_0_cf2fdc3743\" y=\"43.918127\"/>\r\n    </g>\r\n    <g clip-path=\"url(#pd5877d26fa)\">\r\n     <use style=\"fill:#2ca02c;stroke:#ffffff;stroke-width:0.75;\" x=\"135.710249\" xlink:href=\"#C0_0_cf2fdc3743\" y=\"43.918127\"/>\r\n    </g>\r\n    <g clip-path=\"url(#pd5877d26fa)\">\r\n     <use style=\"fill:#2ca02c;stroke:#ffffff;stroke-width:0.75;\" x=\"85.396248\" xlink:href=\"#C0_0_cf2fdc3743\" y=\"136.483125\"/>\r\n    </g>\r\n    <g clip-path=\"url(#pd5877d26fa)\">\r\n     <use style=\"fill:#2ca02c;stroke:#ffffff;stroke-width:0.75;\" x=\"211.18125\" xlink:href=\"#C0_0_cf2fdc3743\" y=\"87.478126\"/>\r\n    </g>\r\n    <g clip-path=\"url(#pd5877d26fa)\">\r\n     <use style=\"fill:#2ca02c;stroke:#ffffff;stroke-width:0.75;\" x=\"160.867249\" xlink:href=\"#C0_0_cf2fdc3743\" y=\"158.263124\"/>\r\n    </g>\r\n    <g clip-path=\"url(#pd5877d26fa)\">\r\n     <use style=\"fill:#2ca02c;stroke:#ffffff;stroke-width:0.75;\" x=\"160.867249\" xlink:href=\"#C0_0_cf2fdc3743\" y=\"43.918127\"/>\r\n    </g>\r\n    <g clip-path=\"url(#pd5877d26fa)\">\r\n     <use style=\"fill:#2ca02c;stroke:#ffffff;stroke-width:0.75;\" x=\"148.288749\" xlink:href=\"#C0_0_cf2fdc3743\" y=\"120.148125\"/>\r\n    </g>\r\n    <g clip-path=\"url(#pd5877d26fa)\">\r\n     <use style=\"fill:#2ca02c;stroke:#ffffff;stroke-width:0.75;\" x=\"223.75975\" xlink:href=\"#C0_0_cf2fdc3743\" y=\"98.368126\"/>\r\n    </g>\r\n    <g clip-path=\"url(#pd5877d26fa)\">\r\n     <use style=\"fill:#2ca02c;stroke:#ffffff;stroke-width:0.75;\" x=\"211.18125\" xlink:href=\"#C0_0_cf2fdc3743\" y=\"71.143126\"/>\r\n    </g>\r\n    <g clip-path=\"url(#pd5877d26fa)\">\r\n     <use style=\"fill:#2ca02c;stroke:#ffffff;stroke-width:0.75;\" x=\"160.867249\" xlink:href=\"#C0_0_cf2fdc3743\" y=\"125.593125\"/>\r\n    </g>\r\n    <g clip-path=\"url(#pd5877d26fa)\">\r\n     <use style=\"fill:#2ca02c;stroke:#ffffff;stroke-width:0.75;\" x=\"186.02425\" xlink:href=\"#C0_0_cf2fdc3743\" y=\"131.038125\"/>\r\n    </g>\r\n    <g clip-path=\"url(#pd5877d26fa)\">\r\n     <use style=\"fill:#2ca02c;stroke:#ffffff;stroke-width:0.75;\" x=\"160.867249\" xlink:href=\"#C0_0_cf2fdc3743\" y=\"114.703125\"/>\r\n    </g>\r\n    <g clip-path=\"url(#pd5877d26fa)\">\r\n     <use style=\"fill:#2ca02c;stroke:#ffffff;stroke-width:0.75;\" x=\"186.02425\" xlink:href=\"#C0_0_cf2fdc3743\" y=\"71.143126\"/>\r\n    </g>\r\n    <g clip-path=\"url(#pd5877d26fa)\">\r\n     <use style=\"fill:#2ca02c;stroke:#ffffff;stroke-width:0.75;\" x=\"160.867249\" xlink:href=\"#C0_0_cf2fdc3743\" y=\"60.253127\"/>\r\n    </g>\r\n    <g clip-path=\"url(#pd5877d26fa)\">\r\n     <use style=\"fill:#2ca02c;stroke:#ffffff;stroke-width:0.75;\" x=\"286.652251\" xlink:href=\"#C0_0_cf2fdc3743\" y=\"33.028127\"/>\r\n    </g>\r\n    <g clip-path=\"url(#pd5877d26fa)\">\r\n     <use style=\"fill:#2ca02c;stroke:#ffffff;stroke-width:0.75;\" x=\"160.867249\" xlink:href=\"#C0_0_cf2fdc3743\" y=\"114.703125\"/>\r\n    </g>\r\n    <g clip-path=\"url(#pd5877d26fa)\">\r\n     <use style=\"fill:#2ca02c;stroke:#ffffff;stroke-width:0.75;\" x=\"160.867249\" xlink:href=\"#C0_0_cf2fdc3743\" y=\"120.148125\"/>\r\n    </g>\r\n    <g clip-path=\"url(#pd5877d26fa)\">\r\n     <use style=\"fill:#2ca02c;stroke:#ffffff;stroke-width:0.75;\" x=\"135.710249\" xlink:href=\"#C0_0_cf2fdc3743\" y=\"131.038125\"/>\r\n    </g>\r\n    <g clip-path=\"url(#pd5877d26fa)\">\r\n     <use style=\"fill:#2ca02c;stroke:#ffffff;stroke-width:0.75;\" x=\"186.02425\" xlink:href=\"#C0_0_cf2fdc3743\" y=\"43.918127\"/>\r\n    </g>\r\n    <g clip-path=\"url(#pd5877d26fa)\">\r\n     <use style=\"fill:#2ca02c;stroke:#ffffff;stroke-width:0.75;\" x=\"236.33825\" xlink:href=\"#C0_0_cf2fdc3743\" y=\"120.148125\"/>\r\n    </g>\r\n    <g clip-path=\"url(#pd5877d26fa)\">\r\n     <use style=\"fill:#2ca02c;stroke:#ffffff;stroke-width:0.75;\" x=\"198.60275\" xlink:href=\"#C0_0_cf2fdc3743\" y=\"114.703125\"/>\r\n    </g>\r\n    <g clip-path=\"url(#pd5877d26fa)\">\r\n     <use style=\"fill:#2ca02c;stroke:#ffffff;stroke-width:0.75;\" x=\"186.02425\" xlink:href=\"#C0_0_cf2fdc3743\" y=\"136.483125\"/>\r\n    </g>\r\n    <g clip-path=\"url(#pd5877d26fa)\">\r\n     <use style=\"fill:#2ca02c;stroke:#ffffff;stroke-width:0.75;\" x=\"198.60275\" xlink:href=\"#C0_0_cf2fdc3743\" y=\"87.478126\"/>\r\n    </g>\r\n    <g clip-path=\"url(#pd5877d26fa)\">\r\n     <use style=\"fill:#2ca02c;stroke:#ffffff;stroke-width:0.75;\" x=\"198.60275\" xlink:href=\"#C0_0_cf2fdc3743\" y=\"98.368126\"/>\r\n    </g>\r\n    <g clip-path=\"url(#pd5877d26fa)\">\r\n     <use style=\"fill:#2ca02c;stroke:#ffffff;stroke-width:0.75;\" x=\"198.60275\" xlink:href=\"#C0_0_cf2fdc3743\" y=\"87.478126\"/>\r\n    </g>\r\n    <g clip-path=\"url(#pd5877d26fa)\">\r\n     <use style=\"fill:#2ca02c;stroke:#ffffff;stroke-width:0.75;\" x=\"148.288749\" xlink:href=\"#C0_0_cf2fdc3743\" y=\"147.373125\"/>\r\n    </g>\r\n    <g clip-path=\"url(#pd5877d26fa)\">\r\n     <use style=\"fill:#2ca02c;stroke:#ffffff;stroke-width:0.75;\" x=\"211.18125\" xlink:href=\"#C0_0_cf2fdc3743\" y=\"92.923126\"/>\r\n    </g>\r\n    <g clip-path=\"url(#pd5877d26fa)\">\r\n     <use style=\"fill:#2ca02c;stroke:#ffffff;stroke-width:0.75;\" x=\"223.75975\" xlink:href=\"#C0_0_cf2fdc3743\" y=\"98.368126\"/>\r\n    </g>\r\n    <g clip-path=\"url(#pd5877d26fa)\">\r\n     <use style=\"fill:#2ca02c;stroke:#ffffff;stroke-width:0.75;\" x=\"186.02425\" xlink:href=\"#C0_0_cf2fdc3743\" y=\"98.368126\"/>\r\n    </g>\r\n    <g clip-path=\"url(#pd5877d26fa)\">\r\n     <use style=\"fill:#2ca02c;stroke:#ffffff;stroke-width:0.75;\" x=\"123.131749\" xlink:href=\"#C0_0_cf2fdc3743\" y=\"120.148125\"/>\r\n    </g>\r\n    <g clip-path=\"url(#pd5877d26fa)\">\r\n     <use style=\"fill:#2ca02c;stroke:#ffffff;stroke-width:0.75;\" x=\"186.02425\" xlink:href=\"#C0_0_cf2fdc3743\" y=\"109.258125\"/>\r\n    </g>\r\n    <g clip-path=\"url(#pd5877d26fa)\">\r\n     <use style=\"fill:#2ca02c;stroke:#ffffff;stroke-width:0.75;\" x=\"236.33825\" xlink:href=\"#C0_0_cf2fdc3743\" y=\"125.593125\"/>\r\n    </g>\r\n    <g clip-path=\"url(#pd5877d26fa)\">\r\n     <use style=\"fill:#2ca02c;stroke:#ffffff;stroke-width:0.75;\" x=\"186.02425\" xlink:href=\"#C0_0_cf2fdc3743\" y=\"141.928125\"/>\r\n    </g>\r\n   </g>\r\n   <g id=\"PathCollection_2\"/>\r\n   <g id=\"PathCollection_3\"/>\r\n   <g id=\"PathCollection_4\"/>\r\n   <g id=\"PathCollection_5\"/>\r\n   <g id=\"matplotlib.axis_1\">\r\n    <g id=\"xtick_1\">\r\n     <g id=\"line2d_1\">\r\n      <defs>\r\n       <path d=\"M 0 0 \r\nL 0 3.5 \r\n\" id=\"m027eeb6683\" style=\"stroke:#000000;stroke-width:0.8;\"/>\r\n      </defs>\r\n      <g>\r\n       <use style=\"stroke:#000000;stroke-width:0.8;\" x=\"60.239248\" xlink:href=\"#m027eeb6683\" y=\"239.758125\"/>\r\n      </g>\r\n     </g>\r\n     <g id=\"text_1\">\r\n      <!-- 2.0 -->\r\n      <defs>\r\n       <path d=\"M 19.1875 8.296875 \r\nL 53.609375 8.296875 \r\nL 53.609375 0 \r\nL 7.328125 0 \r\nL 7.328125 8.296875 \r\nQ 12.9375 14.109375 22.625 23.890625 \r\nQ 32.328125 33.6875 34.8125 36.53125 \r\nQ 39.546875 41.84375 41.421875 45.53125 \r\nQ 43.3125 49.21875 43.3125 52.78125 \r\nQ 43.3125 58.59375 39.234375 62.25 \r\nQ 35.15625 65.921875 28.609375 65.921875 \r\nQ 23.96875 65.921875 18.8125 64.3125 \r\nQ 13.671875 62.703125 7.8125 59.421875 \r\nL 7.8125 69.390625 \r\nQ 13.765625 71.78125 18.9375 73 \r\nQ 24.125 74.21875 28.421875 74.21875 \r\nQ 39.75 74.21875 46.484375 68.546875 \r\nQ 53.21875 62.890625 53.21875 53.421875 \r\nQ 53.21875 48.921875 51.53125 44.890625 \r\nQ 49.859375 40.875 45.40625 35.40625 \r\nQ 44.1875 33.984375 37.640625 27.21875 \r\nQ 31.109375 20.453125 19.1875 8.296875 \r\nz\r\n\" id=\"DejaVuSans-50\"/>\r\n       <path d=\"M 10.6875 12.40625 \r\nL 21 12.40625 \r\nL 21 0 \r\nL 10.6875 0 \r\nz\r\n\" id=\"DejaVuSans-46\"/>\r\n       <path d=\"M 31.78125 66.40625 \r\nQ 24.171875 66.40625 20.328125 58.90625 \r\nQ 16.5 51.421875 16.5 36.375 \r\nQ 16.5 21.390625 20.328125 13.890625 \r\nQ 24.171875 6.390625 31.78125 6.390625 \r\nQ 39.453125 6.390625 43.28125 13.890625 \r\nQ 47.125 21.390625 47.125 36.375 \r\nQ 47.125 51.421875 43.28125 58.90625 \r\nQ 39.453125 66.40625 31.78125 66.40625 \r\nz\r\nM 31.78125 74.21875 \r\nQ 44.046875 74.21875 50.515625 64.515625 \r\nQ 56.984375 54.828125 56.984375 36.375 \r\nQ 56.984375 17.96875 50.515625 8.265625 \r\nQ 44.046875 -1.421875 31.78125 -1.421875 \r\nQ 19.53125 -1.421875 13.0625 8.265625 \r\nQ 6.59375 17.96875 6.59375 36.375 \r\nQ 6.59375 54.828125 13.0625 64.515625 \r\nQ 19.53125 74.21875 31.78125 74.21875 \r\nz\r\n\" id=\"DejaVuSans-48\"/>\r\n      </defs>\r\n      <g transform=\"translate(52.287686 254.356562)scale(0.1 -0.1)\">\r\n       <use xlink:href=\"#DejaVuSans-50\"/>\r\n       <use x=\"63.623047\" xlink:href=\"#DejaVuSans-46\"/>\r\n       <use x=\"95.410156\" xlink:href=\"#DejaVuSans-48\"/>\r\n      </g>\r\n     </g>\r\n    </g>\r\n    <g id=\"xtick_2\">\r\n     <g id=\"line2d_2\">\r\n      <g>\r\n       <use style=\"stroke:#000000;stroke-width:0.8;\" x=\"123.131749\" xlink:href=\"#m027eeb6683\" y=\"239.758125\"/>\r\n      </g>\r\n     </g>\r\n     <g id=\"text_2\">\r\n      <!-- 2.5 -->\r\n      <defs>\r\n       <path d=\"M 10.796875 72.90625 \r\nL 49.515625 72.90625 \r\nL 49.515625 64.59375 \r\nL 19.828125 64.59375 \r\nL 19.828125 46.734375 \r\nQ 21.96875 47.46875 24.109375 47.828125 \r\nQ 26.265625 48.1875 28.421875 48.1875 \r\nQ 40.625 48.1875 47.75 41.5 \r\nQ 54.890625 34.8125 54.890625 23.390625 \r\nQ 54.890625 11.625 47.5625 5.09375 \r\nQ 40.234375 -1.421875 26.90625 -1.421875 \r\nQ 22.3125 -1.421875 17.546875 -0.640625 \r\nQ 12.796875 0.140625 7.71875 1.703125 \r\nL 7.71875 11.625 \r\nQ 12.109375 9.234375 16.796875 8.0625 \r\nQ 21.484375 6.890625 26.703125 6.890625 \r\nQ 35.15625 6.890625 40.078125 11.328125 \r\nQ 45.015625 15.765625 45.015625 23.390625 \r\nQ 45.015625 31 40.078125 35.4375 \r\nQ 35.15625 39.890625 26.703125 39.890625 \r\nQ 22.75 39.890625 18.8125 39.015625 \r\nQ 14.890625 38.140625 10.796875 36.28125 \r\nz\r\n\" id=\"DejaVuSans-53\"/>\r\n      </defs>\r\n      <g transform=\"translate(115.180186 254.356562)scale(0.1 -0.1)\">\r\n       <use xlink:href=\"#DejaVuSans-50\"/>\r\n       <use x=\"63.623047\" xlink:href=\"#DejaVuSans-46\"/>\r\n       <use x=\"95.410156\" xlink:href=\"#DejaVuSans-53\"/>\r\n      </g>\r\n     </g>\r\n    </g>\r\n    <g id=\"xtick_3\">\r\n     <g id=\"line2d_3\">\r\n      <g>\r\n       <use style=\"stroke:#000000;stroke-width:0.8;\" x=\"186.02425\" xlink:href=\"#m027eeb6683\" y=\"239.758125\"/>\r\n      </g>\r\n     </g>\r\n     <g id=\"text_3\">\r\n      <!-- 3.0 -->\r\n      <defs>\r\n       <path d=\"M 40.578125 39.3125 \r\nQ 47.65625 37.796875 51.625 33 \r\nQ 55.609375 28.21875 55.609375 21.1875 \r\nQ 55.609375 10.40625 48.1875 4.484375 \r\nQ 40.765625 -1.421875 27.09375 -1.421875 \r\nQ 22.515625 -1.421875 17.65625 -0.515625 \r\nQ 12.796875 0.390625 7.625 2.203125 \r\nL 7.625 11.71875 \r\nQ 11.71875 9.328125 16.59375 8.109375 \r\nQ 21.484375 6.890625 26.8125 6.890625 \r\nQ 36.078125 6.890625 40.9375 10.546875 \r\nQ 45.796875 14.203125 45.796875 21.1875 \r\nQ 45.796875 27.640625 41.28125 31.265625 \r\nQ 36.765625 34.90625 28.71875 34.90625 \r\nL 20.21875 34.90625 \r\nL 20.21875 43.015625 \r\nL 29.109375 43.015625 \r\nQ 36.375 43.015625 40.234375 45.921875 \r\nQ 44.09375 48.828125 44.09375 54.296875 \r\nQ 44.09375 59.90625 40.109375 62.90625 \r\nQ 36.140625 65.921875 28.71875 65.921875 \r\nQ 24.65625 65.921875 20.015625 65.03125 \r\nQ 15.375 64.15625 9.8125 62.3125 \r\nL 9.8125 71.09375 \r\nQ 15.4375 72.65625 20.34375 73.4375 \r\nQ 25.25 74.21875 29.59375 74.21875 \r\nQ 40.828125 74.21875 47.359375 69.109375 \r\nQ 53.90625 64.015625 53.90625 55.328125 \r\nQ 53.90625 49.265625 50.4375 45.09375 \r\nQ 46.96875 40.921875 40.578125 39.3125 \r\nz\r\n\" id=\"DejaVuSans-51\"/>\r\n      </defs>\r\n      <g transform=\"translate(178.072687 254.356562)scale(0.1 -0.1)\">\r\n       <use xlink:href=\"#DejaVuSans-51\"/>\r\n       <use x=\"63.623047\" xlink:href=\"#DejaVuSans-46\"/>\r\n       <use x=\"95.410156\" xlink:href=\"#DejaVuSans-48\"/>\r\n      </g>\r\n     </g>\r\n    </g>\r\n    <g id=\"xtick_4\">\r\n     <g id=\"line2d_4\">\r\n      <g>\r\n       <use style=\"stroke:#000000;stroke-width:0.8;\" x=\"248.91675\" xlink:href=\"#m027eeb6683\" y=\"239.758125\"/>\r\n      </g>\r\n     </g>\r\n     <g id=\"text_4\">\r\n      <!-- 3.5 -->\r\n      <g transform=\"translate(240.965188 254.356562)scale(0.1 -0.1)\">\r\n       <use xlink:href=\"#DejaVuSans-51\"/>\r\n       <use x=\"63.623047\" xlink:href=\"#DejaVuSans-46\"/>\r\n       <use x=\"95.410156\" xlink:href=\"#DejaVuSans-53\"/>\r\n      </g>\r\n     </g>\r\n    </g>\r\n    <g id=\"xtick_5\">\r\n     <g id=\"line2d_5\">\r\n      <g>\r\n       <use style=\"stroke:#000000;stroke-width:0.8;\" x=\"311.809251\" xlink:href=\"#m027eeb6683\" y=\"239.758125\"/>\r\n      </g>\r\n     </g>\r\n     <g id=\"text_5\">\r\n      <!-- 4.0 -->\r\n      <defs>\r\n       <path d=\"M 37.796875 64.3125 \r\nL 12.890625 25.390625 \r\nL 37.796875 25.390625 \r\nz\r\nM 35.203125 72.90625 \r\nL 47.609375 72.90625 \r\nL 47.609375 25.390625 \r\nL 58.015625 25.390625 \r\nL 58.015625 17.1875 \r\nL 47.609375 17.1875 \r\nL 47.609375 0 \r\nL 37.796875 0 \r\nL 37.796875 17.1875 \r\nL 4.890625 17.1875 \r\nL 4.890625 26.703125 \r\nz\r\n\" id=\"DejaVuSans-52\"/>\r\n      </defs>\r\n      <g transform=\"translate(303.857689 254.356562)scale(0.1 -0.1)\">\r\n       <use xlink:href=\"#DejaVuSans-52\"/>\r\n       <use x=\"63.623047\" xlink:href=\"#DejaVuSans-46\"/>\r\n       <use x=\"95.410156\" xlink:href=\"#DejaVuSans-48\"/>\r\n      </g>\r\n     </g>\r\n    </g>\r\n    <g id=\"xtick_6\">\r\n     <g id=\"line2d_6\">\r\n      <g>\r\n       <use style=\"stroke:#000000;stroke-width:0.8;\" x=\"374.701752\" xlink:href=\"#m027eeb6683\" y=\"239.758125\"/>\r\n      </g>\r\n     </g>\r\n     <g id=\"text_6\">\r\n      <!-- 4.5 -->\r\n      <g transform=\"translate(366.75019 254.356562)scale(0.1 -0.1)\">\r\n       <use xlink:href=\"#DejaVuSans-52\"/>\r\n       <use x=\"63.623047\" xlink:href=\"#DejaVuSans-46\"/>\r\n       <use x=\"95.410156\" xlink:href=\"#DejaVuSans-53\"/>\r\n      </g>\r\n     </g>\r\n    </g>\r\n    <g id=\"text_7\">\r\n     <!-- sepal width (cm) -->\r\n     <defs>\r\n      <path d=\"M 44.28125 53.078125 \r\nL 44.28125 44.578125 \r\nQ 40.484375 46.53125 36.375 47.5 \r\nQ 32.28125 48.484375 27.875 48.484375 \r\nQ 21.1875 48.484375 17.84375 46.4375 \r\nQ 14.5 44.390625 14.5 40.28125 \r\nQ 14.5 37.15625 16.890625 35.375 \r\nQ 19.28125 33.59375 26.515625 31.984375 \r\nL 29.59375 31.296875 \r\nQ 39.15625 29.25 43.1875 25.515625 \r\nQ 47.21875 21.78125 47.21875 15.09375 \r\nQ 47.21875 7.46875 41.1875 3.015625 \r\nQ 35.15625 -1.421875 24.609375 -1.421875 \r\nQ 20.21875 -1.421875 15.453125 -0.5625 \r\nQ 10.6875 0.296875 5.421875 2 \r\nL 5.421875 11.28125 \r\nQ 10.40625 8.6875 15.234375 7.390625 \r\nQ 20.0625 6.109375 24.8125 6.109375 \r\nQ 31.15625 6.109375 34.5625 8.28125 \r\nQ 37.984375 10.453125 37.984375 14.40625 \r\nQ 37.984375 18.0625 35.515625 20.015625 \r\nQ 33.0625 21.96875 24.703125 23.78125 \r\nL 21.578125 24.515625 \r\nQ 13.234375 26.265625 9.515625 29.90625 \r\nQ 5.8125 33.546875 5.8125 39.890625 \r\nQ 5.8125 47.609375 11.28125 51.796875 \r\nQ 16.75 56 26.8125 56 \r\nQ 31.78125 56 36.171875 55.265625 \r\nQ 40.578125 54.546875 44.28125 53.078125 \r\nz\r\n\" id=\"DejaVuSans-115\"/>\r\n      <path d=\"M 56.203125 29.59375 \r\nL 56.203125 25.203125 \r\nL 14.890625 25.203125 \r\nQ 15.484375 15.921875 20.484375 11.0625 \r\nQ 25.484375 6.203125 34.421875 6.203125 \r\nQ 39.59375 6.203125 44.453125 7.46875 \r\nQ 49.3125 8.734375 54.109375 11.28125 \r\nL 54.109375 2.78125 \r\nQ 49.265625 0.734375 44.1875 -0.34375 \r\nQ 39.109375 -1.421875 33.890625 -1.421875 \r\nQ 20.796875 -1.421875 13.15625 6.1875 \r\nQ 5.515625 13.8125 5.515625 26.8125 \r\nQ 5.515625 40.234375 12.765625 48.109375 \r\nQ 20.015625 56 32.328125 56 \r\nQ 43.359375 56 49.78125 48.890625 \r\nQ 56.203125 41.796875 56.203125 29.59375 \r\nz\r\nM 47.21875 32.234375 \r\nQ 47.125 39.59375 43.09375 43.984375 \r\nQ 39.0625 48.390625 32.421875 48.390625 \r\nQ 24.90625 48.390625 20.390625 44.140625 \r\nQ 15.875 39.890625 15.1875 32.171875 \r\nz\r\n\" id=\"DejaVuSans-101\"/>\r\n      <path d=\"M 18.109375 8.203125 \r\nL 18.109375 -20.796875 \r\nL 9.078125 -20.796875 \r\nL 9.078125 54.6875 \r\nL 18.109375 54.6875 \r\nL 18.109375 46.390625 \r\nQ 20.953125 51.265625 25.265625 53.625 \r\nQ 29.59375 56 35.59375 56 \r\nQ 45.5625 56 51.78125 48.09375 \r\nQ 58.015625 40.1875 58.015625 27.296875 \r\nQ 58.015625 14.40625 51.78125 6.484375 \r\nQ 45.5625 -1.421875 35.59375 -1.421875 \r\nQ 29.59375 -1.421875 25.265625 0.953125 \r\nQ 20.953125 3.328125 18.109375 8.203125 \r\nz\r\nM 48.6875 27.296875 \r\nQ 48.6875 37.203125 44.609375 42.84375 \r\nQ 40.53125 48.484375 33.40625 48.484375 \r\nQ 26.265625 48.484375 22.1875 42.84375 \r\nQ 18.109375 37.203125 18.109375 27.296875 \r\nQ 18.109375 17.390625 22.1875 11.75 \r\nQ 26.265625 6.109375 33.40625 6.109375 \r\nQ 40.53125 6.109375 44.609375 11.75 \r\nQ 48.6875 17.390625 48.6875 27.296875 \r\nz\r\n\" id=\"DejaVuSans-112\"/>\r\n      <path d=\"M 34.28125 27.484375 \r\nQ 23.390625 27.484375 19.1875 25 \r\nQ 14.984375 22.515625 14.984375 16.5 \r\nQ 14.984375 11.71875 18.140625 8.90625 \r\nQ 21.296875 6.109375 26.703125 6.109375 \r\nQ 34.1875 6.109375 38.703125 11.40625 \r\nQ 43.21875 16.703125 43.21875 25.484375 \r\nL 43.21875 27.484375 \r\nz\r\nM 52.203125 31.203125 \r\nL 52.203125 0 \r\nL 43.21875 0 \r\nL 43.21875 8.296875 \r\nQ 40.140625 3.328125 35.546875 0.953125 \r\nQ 30.953125 -1.421875 24.3125 -1.421875 \r\nQ 15.921875 -1.421875 10.953125 3.296875 \r\nQ 6 8.015625 6 15.921875 \r\nQ 6 25.140625 12.171875 29.828125 \r\nQ 18.359375 34.515625 30.609375 34.515625 \r\nL 43.21875 34.515625 \r\nL 43.21875 35.40625 \r\nQ 43.21875 41.609375 39.140625 45 \r\nQ 35.0625 48.390625 27.6875 48.390625 \r\nQ 23 48.390625 18.546875 47.265625 \r\nQ 14.109375 46.140625 10.015625 43.890625 \r\nL 10.015625 52.203125 \r\nQ 14.9375 54.109375 19.578125 55.046875 \r\nQ 24.21875 56 28.609375 56 \r\nQ 40.484375 56 46.34375 49.84375 \r\nQ 52.203125 43.703125 52.203125 31.203125 \r\nz\r\n\" id=\"DejaVuSans-97\"/>\r\n      <path d=\"M 9.421875 75.984375 \r\nL 18.40625 75.984375 \r\nL 18.40625 0 \r\nL 9.421875 0 \r\nz\r\n\" id=\"DejaVuSans-108\"/>\r\n      <path id=\"DejaVuSans-32\"/>\r\n      <path d=\"M 4.203125 54.6875 \r\nL 13.1875 54.6875 \r\nL 24.421875 12.015625 \r\nL 35.59375 54.6875 \r\nL 46.1875 54.6875 \r\nL 57.421875 12.015625 \r\nL 68.609375 54.6875 \r\nL 77.59375 54.6875 \r\nL 63.28125 0 \r\nL 52.6875 0 \r\nL 40.921875 44.828125 \r\nL 29.109375 0 \r\nL 18.5 0 \r\nz\r\n\" id=\"DejaVuSans-119\"/>\r\n      <path d=\"M 9.421875 54.6875 \r\nL 18.40625 54.6875 \r\nL 18.40625 0 \r\nL 9.421875 0 \r\nz\r\nM 9.421875 75.984375 \r\nL 18.40625 75.984375 \r\nL 18.40625 64.59375 \r\nL 9.421875 64.59375 \r\nz\r\n\" id=\"DejaVuSans-105\"/>\r\n      <path d=\"M 45.40625 46.390625 \r\nL 45.40625 75.984375 \r\nL 54.390625 75.984375 \r\nL 54.390625 0 \r\nL 45.40625 0 \r\nL 45.40625 8.203125 \r\nQ 42.578125 3.328125 38.25 0.953125 \r\nQ 33.9375 -1.421875 27.875 -1.421875 \r\nQ 17.96875 -1.421875 11.734375 6.484375 \r\nQ 5.515625 14.40625 5.515625 27.296875 \r\nQ 5.515625 40.1875 11.734375 48.09375 \r\nQ 17.96875 56 27.875 56 \r\nQ 33.9375 56 38.25 53.625 \r\nQ 42.578125 51.265625 45.40625 46.390625 \r\nz\r\nM 14.796875 27.296875 \r\nQ 14.796875 17.390625 18.875 11.75 \r\nQ 22.953125 6.109375 30.078125 6.109375 \r\nQ 37.203125 6.109375 41.296875 11.75 \r\nQ 45.40625 17.390625 45.40625 27.296875 \r\nQ 45.40625 37.203125 41.296875 42.84375 \r\nQ 37.203125 48.484375 30.078125 48.484375 \r\nQ 22.953125 48.484375 18.875 42.84375 \r\nQ 14.796875 37.203125 14.796875 27.296875 \r\nz\r\n\" id=\"DejaVuSans-100\"/>\r\n      <path d=\"M 18.3125 70.21875 \r\nL 18.3125 54.6875 \r\nL 36.8125 54.6875 \r\nL 36.8125 47.703125 \r\nL 18.3125 47.703125 \r\nL 18.3125 18.015625 \r\nQ 18.3125 11.328125 20.140625 9.421875 \r\nQ 21.96875 7.515625 27.59375 7.515625 \r\nL 36.8125 7.515625 \r\nL 36.8125 0 \r\nL 27.59375 0 \r\nQ 17.1875 0 13.234375 3.875 \r\nQ 9.28125 7.765625 9.28125 18.015625 \r\nL 9.28125 47.703125 \r\nL 2.6875 47.703125 \r\nL 2.6875 54.6875 \r\nL 9.28125 54.6875 \r\nL 9.28125 70.21875 \r\nz\r\n\" id=\"DejaVuSans-116\"/>\r\n      <path d=\"M 54.890625 33.015625 \r\nL 54.890625 0 \r\nL 45.90625 0 \r\nL 45.90625 32.71875 \r\nQ 45.90625 40.484375 42.875 44.328125 \r\nQ 39.84375 48.1875 33.796875 48.1875 \r\nQ 26.515625 48.1875 22.3125 43.546875 \r\nQ 18.109375 38.921875 18.109375 30.90625 \r\nL 18.109375 0 \r\nL 9.078125 0 \r\nL 9.078125 75.984375 \r\nL 18.109375 75.984375 \r\nL 18.109375 46.1875 \r\nQ 21.34375 51.125 25.703125 53.5625 \r\nQ 30.078125 56 35.796875 56 \r\nQ 45.21875 56 50.046875 50.171875 \r\nQ 54.890625 44.34375 54.890625 33.015625 \r\nz\r\n\" id=\"DejaVuSans-104\"/>\r\n      <path d=\"M 31 75.875 \r\nQ 24.46875 64.65625 21.28125 53.65625 \r\nQ 18.109375 42.671875 18.109375 31.390625 \r\nQ 18.109375 20.125 21.3125 9.0625 \r\nQ 24.515625 -2 31 -13.1875 \r\nL 23.1875 -13.1875 \r\nQ 15.875 -1.703125 12.234375 9.375 \r\nQ 8.59375 20.453125 8.59375 31.390625 \r\nQ 8.59375 42.28125 12.203125 53.3125 \r\nQ 15.828125 64.359375 23.1875 75.875 \r\nz\r\n\" id=\"DejaVuSans-40\"/>\r\n      <path d=\"M 48.78125 52.59375 \r\nL 48.78125 44.1875 \r\nQ 44.96875 46.296875 41.140625 47.34375 \r\nQ 37.3125 48.390625 33.40625 48.390625 \r\nQ 24.65625 48.390625 19.8125 42.84375 \r\nQ 14.984375 37.3125 14.984375 27.296875 \r\nQ 14.984375 17.28125 19.8125 11.734375 \r\nQ 24.65625 6.203125 33.40625 6.203125 \r\nQ 37.3125 6.203125 41.140625 7.25 \r\nQ 44.96875 8.296875 48.78125 10.40625 \r\nL 48.78125 2.09375 \r\nQ 45.015625 0.34375 40.984375 -0.53125 \r\nQ 36.96875 -1.421875 32.421875 -1.421875 \r\nQ 20.0625 -1.421875 12.78125 6.34375 \r\nQ 5.515625 14.109375 5.515625 27.296875 \r\nQ 5.515625 40.671875 12.859375 48.328125 \r\nQ 20.21875 56 33.015625 56 \r\nQ 37.15625 56 41.109375 55.140625 \r\nQ 45.0625 54.296875 48.78125 52.59375 \r\nz\r\n\" id=\"DejaVuSans-99\"/>\r\n      <path d=\"M 52 44.1875 \r\nQ 55.375 50.25 60.0625 53.125 \r\nQ 64.75 56 71.09375 56 \r\nQ 79.640625 56 84.28125 50.015625 \r\nQ 88.921875 44.046875 88.921875 33.015625 \r\nL 88.921875 0 \r\nL 79.890625 0 \r\nL 79.890625 32.71875 \r\nQ 79.890625 40.578125 77.09375 44.375 \r\nQ 74.3125 48.1875 68.609375 48.1875 \r\nQ 61.625 48.1875 57.5625 43.546875 \r\nQ 53.515625 38.921875 53.515625 30.90625 \r\nL 53.515625 0 \r\nL 44.484375 0 \r\nL 44.484375 32.71875 \r\nQ 44.484375 40.625 41.703125 44.40625 \r\nQ 38.921875 48.1875 33.109375 48.1875 \r\nQ 26.21875 48.1875 22.15625 43.53125 \r\nQ 18.109375 38.875 18.109375 30.90625 \r\nL 18.109375 0 \r\nL 9.078125 0 \r\nL 9.078125 54.6875 \r\nL 18.109375 54.6875 \r\nL 18.109375 46.1875 \r\nQ 21.1875 51.21875 25.484375 53.609375 \r\nQ 29.78125 56 35.6875 56 \r\nQ 41.65625 56 45.828125 52.96875 \r\nQ 50 49.953125 52 44.1875 \r\nz\r\n\" id=\"DejaVuSans-109\"/>\r\n      <path d=\"M 8.015625 75.875 \r\nL 15.828125 75.875 \r\nQ 23.140625 64.359375 26.78125 53.3125 \r\nQ 30.421875 42.28125 30.421875 31.390625 \r\nQ 30.421875 20.453125 26.78125 9.375 \r\nQ 23.140625 -1.703125 15.828125 -13.1875 \r\nL 8.015625 -13.1875 \r\nQ 14.5 -2 17.703125 9.0625 \r\nQ 20.90625 20.125 20.90625 31.390625 \r\nQ 20.90625 42.671875 17.703125 53.65625 \r\nQ 14.5 64.65625 8.015625 75.875 \r\nz\r\n\" id=\"DejaVuSans-41\"/>\r\n     </defs>\r\n     <g transform=\"translate(169.392188 268.034687)scale(0.1 -0.1)\">\r\n      <use xlink:href=\"#DejaVuSans-115\"/>\r\n      <use x=\"52.099609\" xlink:href=\"#DejaVuSans-101\"/>\r\n      <use x=\"113.623047\" xlink:href=\"#DejaVuSans-112\"/>\r\n      <use x=\"177.099609\" xlink:href=\"#DejaVuSans-97\"/>\r\n      <use x=\"238.378906\" xlink:href=\"#DejaVuSans-108\"/>\r\n      <use x=\"266.162109\" xlink:href=\"#DejaVuSans-32\"/>\r\n      <use x=\"297.949219\" xlink:href=\"#DejaVuSans-119\"/>\r\n      <use x=\"379.736328\" xlink:href=\"#DejaVuSans-105\"/>\r\n      <use x=\"407.519531\" xlink:href=\"#DejaVuSans-100\"/>\r\n      <use x=\"470.996094\" xlink:href=\"#DejaVuSans-116\"/>\r\n      <use x=\"510.205078\" xlink:href=\"#DejaVuSans-104\"/>\r\n      <use x=\"573.583984\" xlink:href=\"#DejaVuSans-32\"/>\r\n      <use x=\"605.371094\" xlink:href=\"#DejaVuSans-40\"/>\r\n      <use x=\"644.384766\" xlink:href=\"#DejaVuSans-99\"/>\r\n      <use x=\"699.365234\" xlink:href=\"#DejaVuSans-109\"/>\r\n      <use x=\"796.777344\" xlink:href=\"#DejaVuSans-41\"/>\r\n     </g>\r\n    </g>\r\n   </g>\r\n   <g id=\"matplotlib.axis_2\">\r\n    <g id=\"ytick_1\">\r\n     <g id=\"line2d_7\">\r\n      <defs>\r\n       <path d=\"M 0 0 \r\nL -3.5 0 \r\n\" id=\"m160914982f\" style=\"stroke:#000000;stroke-width:0.8;\"/>\r\n      </defs>\r\n      <g>\r\n       <use style=\"stroke:#000000;stroke-width:0.8;\" x=\"43.78125\" xlink:href=\"#m160914982f\" y=\"218.158123\"/>\r\n      </g>\r\n     </g>\r\n     <g id=\"text_8\">\r\n      <!-- 4.5 -->\r\n      <g transform=\"translate(20.878125 221.957342)scale(0.1 -0.1)\">\r\n       <use xlink:href=\"#DejaVuSans-52\"/>\r\n       <use x=\"63.623047\" xlink:href=\"#DejaVuSans-46\"/>\r\n       <use x=\"95.410156\" xlink:href=\"#DejaVuSans-53\"/>\r\n      </g>\r\n     </g>\r\n    </g>\r\n    <g id=\"ytick_2\">\r\n     <g id=\"line2d_8\">\r\n      <g>\r\n       <use style=\"stroke:#000000;stroke-width:0.8;\" x=\"43.78125\" xlink:href=\"#m160914982f\" y=\"190.933124\"/>\r\n      </g>\r\n     </g>\r\n     <g id=\"text_9\">\r\n      <!-- 5.0 -->\r\n      <g transform=\"translate(20.878125 194.732342)scale(0.1 -0.1)\">\r\n       <use xlink:href=\"#DejaVuSans-53\"/>\r\n       <use x=\"63.623047\" xlink:href=\"#DejaVuSans-46\"/>\r\n       <use x=\"95.410156\" xlink:href=\"#DejaVuSans-48\"/>\r\n      </g>\r\n     </g>\r\n    </g>\r\n    <g id=\"ytick_3\">\r\n     <g id=\"line2d_9\">\r\n      <g>\r\n       <use style=\"stroke:#000000;stroke-width:0.8;\" x=\"43.78125\" xlink:href=\"#m160914982f\" y=\"163.708124\"/>\r\n      </g>\r\n     </g>\r\n     <g id=\"text_10\">\r\n      <!-- 5.5 -->\r\n      <g transform=\"translate(20.878125 167.507343)scale(0.1 -0.1)\">\r\n       <use xlink:href=\"#DejaVuSans-53\"/>\r\n       <use x=\"63.623047\" xlink:href=\"#DejaVuSans-46\"/>\r\n       <use x=\"95.410156\" xlink:href=\"#DejaVuSans-53\"/>\r\n      </g>\r\n     </g>\r\n    </g>\r\n    <g id=\"ytick_4\">\r\n     <g id=\"line2d_10\">\r\n      <g>\r\n       <use style=\"stroke:#000000;stroke-width:0.8;\" x=\"43.78125\" xlink:href=\"#m160914982f\" y=\"136.483125\"/>\r\n      </g>\r\n     </g>\r\n     <g id=\"text_11\">\r\n      <!-- 6.0 -->\r\n      <defs>\r\n       <path d=\"M 33.015625 40.375 \r\nQ 26.375 40.375 22.484375 35.828125 \r\nQ 18.609375 31.296875 18.609375 23.390625 \r\nQ 18.609375 15.53125 22.484375 10.953125 \r\nQ 26.375 6.390625 33.015625 6.390625 \r\nQ 39.65625 6.390625 43.53125 10.953125 \r\nQ 47.40625 15.53125 47.40625 23.390625 \r\nQ 47.40625 31.296875 43.53125 35.828125 \r\nQ 39.65625 40.375 33.015625 40.375 \r\nz\r\nM 52.59375 71.296875 \r\nL 52.59375 62.3125 \r\nQ 48.875 64.0625 45.09375 64.984375 \r\nQ 41.3125 65.921875 37.59375 65.921875 \r\nQ 27.828125 65.921875 22.671875 59.328125 \r\nQ 17.53125 52.734375 16.796875 39.40625 \r\nQ 19.671875 43.65625 24.015625 45.921875 \r\nQ 28.375 48.1875 33.59375 48.1875 \r\nQ 44.578125 48.1875 50.953125 41.515625 \r\nQ 57.328125 34.859375 57.328125 23.390625 \r\nQ 57.328125 12.15625 50.6875 5.359375 \r\nQ 44.046875 -1.421875 33.015625 -1.421875 \r\nQ 20.359375 -1.421875 13.671875 8.265625 \r\nQ 6.984375 17.96875 6.984375 36.375 \r\nQ 6.984375 53.65625 15.1875 63.9375 \r\nQ 23.390625 74.21875 37.203125 74.21875 \r\nQ 40.921875 74.21875 44.703125 73.484375 \r\nQ 48.484375 72.75 52.59375 71.296875 \r\nz\r\n\" id=\"DejaVuSans-54\"/>\r\n      </defs>\r\n      <g transform=\"translate(20.878125 140.282344)scale(0.1 -0.1)\">\r\n       <use xlink:href=\"#DejaVuSans-54\"/>\r\n       <use x=\"63.623047\" xlink:href=\"#DejaVuSans-46\"/>\r\n       <use x=\"95.410156\" xlink:href=\"#DejaVuSans-48\"/>\r\n      </g>\r\n     </g>\r\n    </g>\r\n    <g id=\"ytick_5\">\r\n     <g id=\"line2d_11\">\r\n      <g>\r\n       <use style=\"stroke:#000000;stroke-width:0.8;\" x=\"43.78125\" xlink:href=\"#m160914982f\" y=\"109.258125\"/>\r\n      </g>\r\n     </g>\r\n     <g id=\"text_12\">\r\n      <!-- 6.5 -->\r\n      <g transform=\"translate(20.878125 113.057344)scale(0.1 -0.1)\">\r\n       <use xlink:href=\"#DejaVuSans-54\"/>\r\n       <use x=\"63.623047\" xlink:href=\"#DejaVuSans-46\"/>\r\n       <use x=\"95.410156\" xlink:href=\"#DejaVuSans-53\"/>\r\n      </g>\r\n     </g>\r\n    </g>\r\n    <g id=\"ytick_6\">\r\n     <g id=\"line2d_12\">\r\n      <g>\r\n       <use style=\"stroke:#000000;stroke-width:0.8;\" x=\"43.78125\" xlink:href=\"#m160914982f\" y=\"82.033126\"/>\r\n      </g>\r\n     </g>\r\n     <g id=\"text_13\">\r\n      <!-- 7.0 -->\r\n      <defs>\r\n       <path d=\"M 8.203125 72.90625 \r\nL 55.078125 72.90625 \r\nL 55.078125 68.703125 \r\nL 28.609375 0 \r\nL 18.3125 0 \r\nL 43.21875 64.59375 \r\nL 8.203125 64.59375 \r\nz\r\n\" id=\"DejaVuSans-55\"/>\r\n      </defs>\r\n      <g transform=\"translate(20.878125 85.832345)scale(0.1 -0.1)\">\r\n       <use xlink:href=\"#DejaVuSans-55\"/>\r\n       <use x=\"63.623047\" xlink:href=\"#DejaVuSans-46\"/>\r\n       <use x=\"95.410156\" xlink:href=\"#DejaVuSans-48\"/>\r\n      </g>\r\n     </g>\r\n    </g>\r\n    <g id=\"ytick_7\">\r\n     <g id=\"line2d_13\">\r\n      <g>\r\n       <use style=\"stroke:#000000;stroke-width:0.8;\" x=\"43.78125\" xlink:href=\"#m160914982f\" y=\"54.808127\"/>\r\n      </g>\r\n     </g>\r\n     <g id=\"text_14\">\r\n      <!-- 7.5 -->\r\n      <g transform=\"translate(20.878125 58.607345)scale(0.1 -0.1)\">\r\n       <use xlink:href=\"#DejaVuSans-55\"/>\r\n       <use x=\"63.623047\" xlink:href=\"#DejaVuSans-46\"/>\r\n       <use x=\"95.410156\" xlink:href=\"#DejaVuSans-53\"/>\r\n      </g>\r\n     </g>\r\n    </g>\r\n    <g id=\"ytick_8\">\r\n     <g id=\"line2d_14\">\r\n      <g>\r\n       <use style=\"stroke:#000000;stroke-width:0.8;\" x=\"43.78125\" xlink:href=\"#m160914982f\" y=\"27.583127\"/>\r\n      </g>\r\n     </g>\r\n     <g id=\"text_15\">\r\n      <!-- 8.0 -->\r\n      <defs>\r\n       <path d=\"M 31.78125 34.625 \r\nQ 24.75 34.625 20.71875 30.859375 \r\nQ 16.703125 27.09375 16.703125 20.515625 \r\nQ 16.703125 13.921875 20.71875 10.15625 \r\nQ 24.75 6.390625 31.78125 6.390625 \r\nQ 38.8125 6.390625 42.859375 10.171875 \r\nQ 46.921875 13.96875 46.921875 20.515625 \r\nQ 46.921875 27.09375 42.890625 30.859375 \r\nQ 38.875 34.625 31.78125 34.625 \r\nz\r\nM 21.921875 38.8125 \r\nQ 15.578125 40.375 12.03125 44.71875 \r\nQ 8.5 49.078125 8.5 55.328125 \r\nQ 8.5 64.0625 14.71875 69.140625 \r\nQ 20.953125 74.21875 31.78125 74.21875 \r\nQ 42.671875 74.21875 48.875 69.140625 \r\nQ 55.078125 64.0625 55.078125 55.328125 \r\nQ 55.078125 49.078125 51.53125 44.71875 \r\nQ 48 40.375 41.703125 38.8125 \r\nQ 48.828125 37.15625 52.796875 32.3125 \r\nQ 56.78125 27.484375 56.78125 20.515625 \r\nQ 56.78125 9.90625 50.3125 4.234375 \r\nQ 43.84375 -1.421875 31.78125 -1.421875 \r\nQ 19.734375 -1.421875 13.25 4.234375 \r\nQ 6.78125 9.90625 6.78125 20.515625 \r\nQ 6.78125 27.484375 10.78125 32.3125 \r\nQ 14.796875 37.15625 21.921875 38.8125 \r\nz\r\nM 18.3125 54.390625 \r\nQ 18.3125 48.734375 21.84375 45.5625 \r\nQ 25.390625 42.390625 31.78125 42.390625 \r\nQ 38.140625 42.390625 41.71875 45.5625 \r\nQ 45.3125 48.734375 45.3125 54.390625 \r\nQ 45.3125 60.0625 41.71875 63.234375 \r\nQ 38.140625 66.40625 31.78125 66.40625 \r\nQ 25.390625 66.40625 21.84375 63.234375 \r\nQ 18.3125 60.0625 18.3125 54.390625 \r\nz\r\n\" id=\"DejaVuSans-56\"/>\r\n      </defs>\r\n      <g transform=\"translate(20.878125 31.382346)scale(0.1 -0.1)\">\r\n       <use xlink:href=\"#DejaVuSans-56\"/>\r\n       <use x=\"63.623047\" xlink:href=\"#DejaVuSans-46\"/>\r\n       <use x=\"95.410156\" xlink:href=\"#DejaVuSans-48\"/>\r\n      </g>\r\n     </g>\r\n    </g>\r\n    <g id=\"text_16\">\r\n     <!-- sepal length (cm) -->\r\n     <defs>\r\n      <path d=\"M 54.890625 33.015625 \r\nL 54.890625 0 \r\nL 45.90625 0 \r\nL 45.90625 32.71875 \r\nQ 45.90625 40.484375 42.875 44.328125 \r\nQ 39.84375 48.1875 33.796875 48.1875 \r\nQ 26.515625 48.1875 22.3125 43.546875 \r\nQ 18.109375 38.921875 18.109375 30.90625 \r\nL 18.109375 0 \r\nL 9.078125 0 \r\nL 9.078125 54.6875 \r\nL 18.109375 54.6875 \r\nL 18.109375 46.1875 \r\nQ 21.34375 51.125 25.703125 53.5625 \r\nQ 30.078125 56 35.796875 56 \r\nQ 45.21875 56 50.046875 50.171875 \r\nQ 54.890625 44.34375 54.890625 33.015625 \r\nz\r\n\" id=\"DejaVuSans-110\"/>\r\n      <path d=\"M 45.40625 27.984375 \r\nQ 45.40625 37.75 41.375 43.109375 \r\nQ 37.359375 48.484375 30.078125 48.484375 \r\nQ 22.859375 48.484375 18.828125 43.109375 \r\nQ 14.796875 37.75 14.796875 27.984375 \r\nQ 14.796875 18.265625 18.828125 12.890625 \r\nQ 22.859375 7.515625 30.078125 7.515625 \r\nQ 37.359375 7.515625 41.375 12.890625 \r\nQ 45.40625 18.265625 45.40625 27.984375 \r\nz\r\nM 54.390625 6.78125 \r\nQ 54.390625 -7.171875 48.1875 -13.984375 \r\nQ 42 -20.796875 29.203125 -20.796875 \r\nQ 24.46875 -20.796875 20.265625 -20.09375 \r\nQ 16.0625 -19.390625 12.109375 -17.921875 \r\nL 12.109375 -9.1875 \r\nQ 16.0625 -11.328125 19.921875 -12.34375 \r\nQ 23.78125 -13.375 27.78125 -13.375 \r\nQ 36.625 -13.375 41.015625 -8.765625 \r\nQ 45.40625 -4.15625 45.40625 5.171875 \r\nL 45.40625 9.625 \r\nQ 42.625 4.78125 38.28125 2.390625 \r\nQ 33.9375 0 27.875 0 \r\nQ 17.828125 0 11.671875 7.65625 \r\nQ 5.515625 15.328125 5.515625 27.984375 \r\nQ 5.515625 40.671875 11.671875 48.328125 \r\nQ 17.828125 56 27.875 56 \r\nQ 33.9375 56 38.28125 53.609375 \r\nQ 42.625 51.21875 45.40625 46.390625 \r\nL 45.40625 54.6875 \r\nL 54.390625 54.6875 \r\nz\r\n\" id=\"DejaVuSans-103\"/>\r\n     </defs>\r\n     <g transform=\"translate(14.798438 174.983437)rotate(-90)scale(0.1 -0.1)\">\r\n      <use xlink:href=\"#DejaVuSans-115\"/>\r\n      <use x=\"52.099609\" xlink:href=\"#DejaVuSans-101\"/>\r\n      <use x=\"113.623047\" xlink:href=\"#DejaVuSans-112\"/>\r\n      <use x=\"177.099609\" xlink:href=\"#DejaVuSans-97\"/>\r\n      <use x=\"238.378906\" xlink:href=\"#DejaVuSans-108\"/>\r\n      <use x=\"266.162109\" xlink:href=\"#DejaVuSans-32\"/>\r\n      <use x=\"297.949219\" xlink:href=\"#DejaVuSans-108\"/>\r\n      <use x=\"325.732422\" xlink:href=\"#DejaVuSans-101\"/>\r\n      <use x=\"387.255859\" xlink:href=\"#DejaVuSans-110\"/>\r\n      <use x=\"450.634766\" xlink:href=\"#DejaVuSans-103\"/>\r\n      <use x=\"514.111328\" xlink:href=\"#DejaVuSans-116\"/>\r\n      <use x=\"553.320312\" xlink:href=\"#DejaVuSans-104\"/>\r\n      <use x=\"616.699219\" xlink:href=\"#DejaVuSans-32\"/>\r\n      <use x=\"648.486328\" xlink:href=\"#DejaVuSans-40\"/>\r\n      <use x=\"687.5\" xlink:href=\"#DejaVuSans-99\"/>\r\n      <use x=\"742.480469\" xlink:href=\"#DejaVuSans-109\"/>\r\n      <use x=\"839.892578\" xlink:href=\"#DejaVuSans-41\"/>\r\n     </g>\r\n    </g>\r\n   </g>\r\n   <g id=\"patch_3\">\r\n    <path d=\"M 43.78125 239.758125 \r\nL 43.78125 22.318125 \r\n\" style=\"fill:none;stroke:#000000;stroke-linecap:square;stroke-linejoin:miter;stroke-width:0.8;\"/>\r\n   </g>\r\n   <g id=\"patch_4\">\r\n    <path d=\"M 378.58125 239.758125 \r\nL 378.58125 22.318125 \r\n\" style=\"fill:none;stroke:#000000;stroke-linecap:square;stroke-linejoin:miter;stroke-width:0.8;\"/>\r\n   </g>\r\n   <g id=\"patch_5\">\r\n    <path d=\"M 43.78125 239.758125 \r\nL 378.58125 239.758125 \r\n\" style=\"fill:none;stroke:#000000;stroke-linecap:square;stroke-linejoin:miter;stroke-width:0.8;\"/>\r\n   </g>\r\n   <g id=\"patch_6\">\r\n    <path d=\"M 43.78125 22.318125 \r\nL 378.58125 22.318125 \r\n\" style=\"fill:none;stroke:#000000;stroke-linecap:square;stroke-linejoin:miter;stroke-width:0.8;\"/>\r\n   </g>\r\n   <g id=\"text_17\">\r\n    <!-- Flower Sepal Length and Width -->\r\n    <defs>\r\n     <path d=\"M 9.8125 72.90625 \r\nL 51.703125 72.90625 \r\nL 51.703125 64.59375 \r\nL 19.671875 64.59375 \r\nL 19.671875 43.109375 \r\nL 48.578125 43.109375 \r\nL 48.578125 34.8125 \r\nL 19.671875 34.8125 \r\nL 19.671875 0 \r\nL 9.8125 0 \r\nz\r\n\" id=\"DejaVuSans-70\"/>\r\n     <path d=\"M 30.609375 48.390625 \r\nQ 23.390625 48.390625 19.1875 42.75 \r\nQ 14.984375 37.109375 14.984375 27.296875 \r\nQ 14.984375 17.484375 19.15625 11.84375 \r\nQ 23.34375 6.203125 30.609375 6.203125 \r\nQ 37.796875 6.203125 41.984375 11.859375 \r\nQ 46.1875 17.53125 46.1875 27.296875 \r\nQ 46.1875 37.015625 41.984375 42.703125 \r\nQ 37.796875 48.390625 30.609375 48.390625 \r\nz\r\nM 30.609375 56 \r\nQ 42.328125 56 49.015625 48.375 \r\nQ 55.71875 40.765625 55.71875 27.296875 \r\nQ 55.71875 13.875 49.015625 6.21875 \r\nQ 42.328125 -1.421875 30.609375 -1.421875 \r\nQ 18.84375 -1.421875 12.171875 6.21875 \r\nQ 5.515625 13.875 5.515625 27.296875 \r\nQ 5.515625 40.765625 12.171875 48.375 \r\nQ 18.84375 56 30.609375 56 \r\nz\r\n\" id=\"DejaVuSans-111\"/>\r\n     <path d=\"M 41.109375 46.296875 \r\nQ 39.59375 47.171875 37.8125 47.578125 \r\nQ 36.03125 48 33.890625 48 \r\nQ 26.265625 48 22.1875 43.046875 \r\nQ 18.109375 38.09375 18.109375 28.8125 \r\nL 18.109375 0 \r\nL 9.078125 0 \r\nL 9.078125 54.6875 \r\nL 18.109375 54.6875 \r\nL 18.109375 46.1875 \r\nQ 20.953125 51.171875 25.484375 53.578125 \r\nQ 30.03125 56 36.53125 56 \r\nQ 37.453125 56 38.578125 55.875 \r\nQ 39.703125 55.765625 41.0625 55.515625 \r\nz\r\n\" id=\"DejaVuSans-114\"/>\r\n     <path d=\"M 53.515625 70.515625 \r\nL 53.515625 60.890625 \r\nQ 47.90625 63.578125 42.921875 64.890625 \r\nQ 37.9375 66.21875 33.296875 66.21875 \r\nQ 25.25 66.21875 20.875 63.09375 \r\nQ 16.5 59.96875 16.5 54.203125 \r\nQ 16.5 49.359375 19.40625 46.890625 \r\nQ 22.3125 44.4375 30.421875 42.921875 \r\nL 36.375 41.703125 \r\nQ 47.40625 39.59375 52.65625 34.296875 \r\nQ 57.90625 29 57.90625 20.125 \r\nQ 57.90625 9.515625 50.796875 4.046875 \r\nQ 43.703125 -1.421875 29.984375 -1.421875 \r\nQ 24.8125 -1.421875 18.96875 -0.25 \r\nQ 13.140625 0.921875 6.890625 3.21875 \r\nL 6.890625 13.375 \r\nQ 12.890625 10.015625 18.65625 8.296875 \r\nQ 24.421875 6.59375 29.984375 6.59375 \r\nQ 38.421875 6.59375 43.015625 9.90625 \r\nQ 47.609375 13.234375 47.609375 19.390625 \r\nQ 47.609375 24.75 44.3125 27.78125 \r\nQ 41.015625 30.8125 33.5 32.328125 \r\nL 27.484375 33.5 \r\nQ 16.453125 35.6875 11.515625 40.375 \r\nQ 6.59375 45.0625 6.59375 53.421875 \r\nQ 6.59375 63.09375 13.40625 68.65625 \r\nQ 20.21875 74.21875 32.171875 74.21875 \r\nQ 37.3125 74.21875 42.625 73.28125 \r\nQ 47.953125 72.359375 53.515625 70.515625 \r\nz\r\n\" id=\"DejaVuSans-83\"/>\r\n     <path d=\"M 9.8125 72.90625 \r\nL 19.671875 72.90625 \r\nL 19.671875 8.296875 \r\nL 55.171875 8.296875 \r\nL 55.171875 0 \r\nL 9.8125 0 \r\nz\r\n\" id=\"DejaVuSans-76\"/>\r\n     <path d=\"M 3.328125 72.90625 \r\nL 13.28125 72.90625 \r\nL 28.609375 11.28125 \r\nL 43.890625 72.90625 \r\nL 54.984375 72.90625 \r\nL 70.3125 11.28125 \r\nL 85.59375 72.90625 \r\nL 95.609375 72.90625 \r\nL 77.296875 0 \r\nL 64.890625 0 \r\nL 49.515625 63.28125 \r\nL 33.984375 0 \r\nL 21.578125 0 \r\nz\r\n\" id=\"DejaVuSans-87\"/>\r\n    </defs>\r\n    <g transform=\"translate(117.395625 16.318125)scale(0.12 -0.12)\">\r\n     <use xlink:href=\"#DejaVuSans-70\"/>\r\n     <use x=\"57.519531\" xlink:href=\"#DejaVuSans-108\"/>\r\n     <use x=\"85.302734\" xlink:href=\"#DejaVuSans-111\"/>\r\n     <use x=\"146.484375\" xlink:href=\"#DejaVuSans-119\"/>\r\n     <use x=\"228.271484\" xlink:href=\"#DejaVuSans-101\"/>\r\n     <use x=\"289.794922\" xlink:href=\"#DejaVuSans-114\"/>\r\n     <use x=\"330.908203\" xlink:href=\"#DejaVuSans-32\"/>\r\n     <use x=\"362.695312\" xlink:href=\"#DejaVuSans-83\"/>\r\n     <use x=\"426.171875\" xlink:href=\"#DejaVuSans-101\"/>\r\n     <use x=\"487.695312\" xlink:href=\"#DejaVuSans-112\"/>\r\n     <use x=\"551.171875\" xlink:href=\"#DejaVuSans-97\"/>\r\n     <use x=\"612.451172\" xlink:href=\"#DejaVuSans-108\"/>\r\n     <use x=\"640.234375\" xlink:href=\"#DejaVuSans-32\"/>\r\n     <use x=\"672.021484\" xlink:href=\"#DejaVuSans-76\"/>\r\n     <use x=\"727.71875\" xlink:href=\"#DejaVuSans-101\"/>\r\n     <use x=\"789.242188\" xlink:href=\"#DejaVuSans-110\"/>\r\n     <use x=\"852.621094\" xlink:href=\"#DejaVuSans-103\"/>\r\n     <use x=\"916.097656\" xlink:href=\"#DejaVuSans-116\"/>\r\n     <use x=\"955.306641\" xlink:href=\"#DejaVuSans-104\"/>\r\n     <use x=\"1018.685547\" xlink:href=\"#DejaVuSans-32\"/>\r\n     <use x=\"1050.472656\" xlink:href=\"#DejaVuSans-97\"/>\r\n     <use x=\"1111.751953\" xlink:href=\"#DejaVuSans-110\"/>\r\n     <use x=\"1175.130859\" xlink:href=\"#DejaVuSans-100\"/>\r\n     <use x=\"1238.607422\" xlink:href=\"#DejaVuSans-32\"/>\r\n     <use x=\"1270.394531\" xlink:href=\"#DejaVuSans-87\"/>\r\n     <use x=\"1369.240234\" xlink:href=\"#DejaVuSans-105\"/>\r\n     <use x=\"1397.023438\" xlink:href=\"#DejaVuSans-100\"/>\r\n     <use x=\"1460.5\" xlink:href=\"#DejaVuSans-116\"/>\r\n     <use x=\"1499.708984\" xlink:href=\"#DejaVuSans-104\"/>\r\n    </g>\r\n   </g>\r\n   <g id=\"legend_1\">\r\n    <g id=\"patch_7\">\r\n     <path d=\"M 50.78125 89.30875 \r\nL 140.98125 89.30875 \r\nQ 142.98125 89.30875 142.98125 87.30875 \r\nL 142.98125 29.318125 \r\nQ 142.98125 27.318125 140.98125 27.318125 \r\nL 50.78125 27.318125 \r\nQ 48.78125 27.318125 48.78125 29.318125 \r\nL 48.78125 87.30875 \r\nQ 48.78125 89.30875 50.78125 89.30875 \r\nz\r\n\" style=\"fill:#ffffff;opacity:0.8;stroke:#cccccc;stroke-linejoin:miter;\"/>\r\n    </g>\r\n    <g id=\"PathCollection_6\">\r\n     <defs>\r\n      <path id=\"m70b4eb2404\" style=\"stroke:#ffffff;stroke-width:1.5;\"/>\r\n     </defs>\r\n     <g>\r\n      <use style=\"fill:#ffffff;stroke:#ffffff;stroke-width:1.5;\" x=\"62.78125\" xlink:href=\"#m70b4eb2404\" y=\"36.291562\"/>\r\n     </g>\r\n    </g>\r\n    <g id=\"text_18\">\r\n     <!-- flower_type -->\r\n     <defs>\r\n      <path d=\"M 37.109375 75.984375 \r\nL 37.109375 68.5 \r\nL 28.515625 68.5 \r\nQ 23.6875 68.5 21.796875 66.546875 \r\nQ 19.921875 64.59375 19.921875 59.515625 \r\nL 19.921875 54.6875 \r\nL 34.71875 54.6875 \r\nL 34.71875 47.703125 \r\nL 19.921875 47.703125 \r\nL 19.921875 0 \r\nL 10.890625 0 \r\nL 10.890625 47.703125 \r\nL 2.296875 47.703125 \r\nL 2.296875 54.6875 \r\nL 10.890625 54.6875 \r\nL 10.890625 58.5 \r\nQ 10.890625 67.625 15.140625 71.796875 \r\nQ 19.390625 75.984375 28.609375 75.984375 \r\nz\r\n\" id=\"DejaVuSans-102\"/>\r\n      <path d=\"M 50.984375 -16.609375 \r\nL 50.984375 -23.578125 \r\nL -0.984375 -23.578125 \r\nL -0.984375 -16.609375 \r\nz\r\n\" id=\"DejaVuSans-95\"/>\r\n      <path d=\"M 32.171875 -5.078125 \r\nQ 28.375 -14.84375 24.75 -17.8125 \r\nQ 21.140625 -20.796875 15.09375 -20.796875 \r\nL 7.90625 -20.796875 \r\nL 7.90625 -13.28125 \r\nL 13.1875 -13.28125 \r\nQ 16.890625 -13.28125 18.9375 -11.515625 \r\nQ 21 -9.765625 23.484375 -3.21875 \r\nL 25.09375 0.875 \r\nL 2.984375 54.6875 \r\nL 12.5 54.6875 \r\nL 29.59375 11.921875 \r\nL 46.6875 54.6875 \r\nL 56.203125 54.6875 \r\nz\r\n\" id=\"DejaVuSans-121\"/>\r\n     </defs>\r\n     <g transform=\"translate(80.78125 38.916562)scale(0.1 -0.1)\">\r\n      <use xlink:href=\"#DejaVuSans-102\"/>\r\n      <use x=\"35.205078\" xlink:href=\"#DejaVuSans-108\"/>\r\n      <use x=\"62.988281\" xlink:href=\"#DejaVuSans-111\"/>\r\n      <use x=\"124.169922\" xlink:href=\"#DejaVuSans-119\"/>\r\n      <use x=\"205.957031\" xlink:href=\"#DejaVuSans-101\"/>\r\n      <use x=\"267.480469\" xlink:href=\"#DejaVuSans-114\"/>\r\n      <use x=\"308.59375\" xlink:href=\"#DejaVuSans-95\"/>\r\n      <use x=\"358.59375\" xlink:href=\"#DejaVuSans-116\"/>\r\n      <use x=\"397.802734\" xlink:href=\"#DejaVuSans-121\"/>\r\n      <use x=\"456.982422\" xlink:href=\"#DejaVuSans-112\"/>\r\n      <use x=\"520.458984\" xlink:href=\"#DejaVuSans-101\"/>\r\n     </g>\r\n    </g>\r\n    <g id=\"PathCollection_7\">\r\n     <defs>\r\n      <path d=\"M 0 3 \r\nC 0.795609 3 1.55874 2.683901 2.12132 2.12132 \r\nC 2.683901 1.55874 3 0.795609 3 0 \r\nC 3 -0.795609 2.683901 -1.55874 2.12132 -2.12132 \r\nC 1.55874 -2.683901 0.795609 -3 0 -3 \r\nC -0.795609 -3 -1.55874 -2.683901 -2.12132 -2.12132 \r\nC -2.683901 -1.55874 -3 -0.795609 -3 0 \r\nC -3 0.795609 -2.683901 1.55874 -2.12132 2.12132 \r\nC -1.55874 2.683901 -0.795609 3 0 3 \r\nz\r\n\" id=\"mf2986ec62e\" style=\"stroke:#1f77b4;\"/>\r\n     </defs>\r\n     <g>\r\n      <use style=\"fill:#1f77b4;stroke:#1f77b4;\" x=\"62.78125\" xlink:href=\"#mf2986ec62e\" y=\"51.247812\"/>\r\n     </g>\r\n    </g>\r\n    <g id=\"text_19\">\r\n     <!-- setosa -->\r\n     <g transform=\"translate(80.78125 53.872812)scale(0.1 -0.1)\">\r\n      <use xlink:href=\"#DejaVuSans-115\"/>\r\n      <use x=\"52.099609\" xlink:href=\"#DejaVuSans-101\"/>\r\n      <use x=\"113.623047\" xlink:href=\"#DejaVuSans-116\"/>\r\n      <use x=\"152.832031\" xlink:href=\"#DejaVuSans-111\"/>\r\n      <use x=\"214.013672\" xlink:href=\"#DejaVuSans-115\"/>\r\n      <use x=\"266.113281\" xlink:href=\"#DejaVuSans-97\"/>\r\n     </g>\r\n    </g>\r\n    <g id=\"PathCollection_8\">\r\n     <defs>\r\n      <path d=\"M 0 3 \r\nC 0.795609 3 1.55874 2.683901 2.12132 2.12132 \r\nC 2.683901 1.55874 3 0.795609 3 0 \r\nC 3 -0.795609 2.683901 -1.55874 2.12132 -2.12132 \r\nC 1.55874 -2.683901 0.795609 -3 0 -3 \r\nC -0.795609 -3 -1.55874 -2.683901 -2.12132 -2.12132 \r\nC -2.683901 -1.55874 -3 -0.795609 -3 0 \r\nC -3 0.795609 -2.683901 1.55874 -2.12132 2.12132 \r\nC -1.55874 2.683901 -0.795609 3 0 3 \r\nz\r\n\" id=\"m66b83aeba8\" style=\"stroke:#ff7f0e;\"/>\r\n     </defs>\r\n     <g>\r\n      <use style=\"fill:#ff7f0e;stroke:#ff7f0e;\" x=\"62.78125\" xlink:href=\"#m66b83aeba8\" y=\"65.925937\"/>\r\n     </g>\r\n    </g>\r\n    <g id=\"text_20\">\r\n     <!-- versicolor -->\r\n     <defs>\r\n      <path d=\"M 2.984375 54.6875 \r\nL 12.5 54.6875 \r\nL 29.59375 8.796875 \r\nL 46.6875 54.6875 \r\nL 56.203125 54.6875 \r\nL 35.6875 0 \r\nL 23.484375 0 \r\nz\r\n\" id=\"DejaVuSans-118\"/>\r\n     </defs>\r\n     <g transform=\"translate(80.78125 68.550937)scale(0.1 -0.1)\">\r\n      <use xlink:href=\"#DejaVuSans-118\"/>\r\n      <use x=\"59.179688\" xlink:href=\"#DejaVuSans-101\"/>\r\n      <use x=\"120.703125\" xlink:href=\"#DejaVuSans-114\"/>\r\n      <use x=\"161.816406\" xlink:href=\"#DejaVuSans-115\"/>\r\n      <use x=\"213.916016\" xlink:href=\"#DejaVuSans-105\"/>\r\n      <use x=\"241.699219\" xlink:href=\"#DejaVuSans-99\"/>\r\n      <use x=\"296.679688\" xlink:href=\"#DejaVuSans-111\"/>\r\n      <use x=\"357.861328\" xlink:href=\"#DejaVuSans-108\"/>\r\n      <use x=\"385.644531\" xlink:href=\"#DejaVuSans-111\"/>\r\n      <use x=\"446.826172\" xlink:href=\"#DejaVuSans-114\"/>\r\n     </g>\r\n    </g>\r\n    <g id=\"PathCollection_9\">\r\n     <defs>\r\n      <path d=\"M 0 3 \r\nC 0.795609 3 1.55874 2.683901 2.12132 2.12132 \r\nC 2.683901 1.55874 3 0.795609 3 0 \r\nC 3 -0.795609 2.683901 -1.55874 2.12132 -2.12132 \r\nC 1.55874 -2.683901 0.795609 -3 0 -3 \r\nC -0.795609 -3 -1.55874 -2.683901 -2.12132 -2.12132 \r\nC -2.683901 -1.55874 -3 -0.795609 -3 0 \r\nC -3 0.795609 -2.683901 1.55874 -2.12132 2.12132 \r\nC -1.55874 2.683901 -0.795609 3 0 3 \r\nz\r\n\" id=\"md5efaea855\" style=\"stroke:#2ca02c;\"/>\r\n     </defs>\r\n     <g>\r\n      <use style=\"fill:#2ca02c;stroke:#2ca02c;\" x=\"62.78125\" xlink:href=\"#md5efaea855\" y=\"80.604062\"/>\r\n     </g>\r\n    </g>\r\n    <g id=\"text_21\">\r\n     <!-- virginica -->\r\n     <g transform=\"translate(80.78125 83.229062)scale(0.1 -0.1)\">\r\n      <use xlink:href=\"#DejaVuSans-118\"/>\r\n      <use x=\"59.179688\" xlink:href=\"#DejaVuSans-105\"/>\r\n      <use x=\"86.962891\" xlink:href=\"#DejaVuSans-114\"/>\r\n      <use x=\"128.060547\" xlink:href=\"#DejaVuSans-103\"/>\r\n      <use x=\"191.537109\" xlink:href=\"#DejaVuSans-105\"/>\r\n      <use x=\"219.320312\" xlink:href=\"#DejaVuSans-110\"/>\r\n      <use x=\"282.699219\" xlink:href=\"#DejaVuSans-105\"/>\r\n      <use x=\"310.482422\" xlink:href=\"#DejaVuSans-99\"/>\r\n      <use x=\"365.462891\" xlink:href=\"#DejaVuSans-97\"/>\r\n     </g>\r\n    </g>\r\n   </g>\r\n  </g>\r\n </g>\r\n <defs>\r\n  <clipPath id=\"pd5877d26fa\">\r\n   <rect height=\"217.44\" width=\"334.8\" x=\"43.78125\" y=\"22.318125\"/>\r\n  </clipPath>\r\n </defs>\r\n</svg>\r\n",
      "image/png": "[encoded data removed]"
     },
     "metadata": {
      "needs_background": "light"
     }
    }
   ],
   "source": [
    "# do this again but use seaborn \n",
    "import seaborn as sns \n",
    "import matplotlib.pyplot as plt\n",
    "\n",
    "sns.scatterplot(data=df, x=\"sepal width (cm)\", y=\"sepal length (cm)\", hue=\"flower_type\")\n",
    "plt.title('Flower Sepal Length and Width')"
   ]
  },
  {
   "cell_type": "code",
   "execution_count": 3,
   "metadata": {},
   "outputs": [
    {
     "output_type": "execute_result",
     "data": {
      "text/plain": "array(['setosa', 'versicolor', 'virginica'], dtype=object)"
     },
     "metadata": {},
     "execution_count": 3
    }
   ],
   "source": []
  },
  {
   "cell_type": "code",
   "execution_count": null,
   "metadata": {},
   "outputs": [],
   "source": []
  }
 ],
 "metadata": {
  "kernelspec": {
   "name": "Python 3.6.9 64-bit ('learn-env': conda)",
   "display_name": "Python 3.6.9 64-bit ('learn-env': conda)",
   "metadata": {
    "interpreter": {
     "hash": "9ac4d3343b464ceb9c6b349fee6aeea784c980ce57d0bbc1775a5f7d482c030a"
    }
   }
  },
  "language_info": {
   "codemirror_mode": {
    "name": "ipython",
    "version": 3
   },
   "file_extension": ".py",
   "mimetype": "text/x-python",
   "name": "python",
   "nbconvert_exporter": "python",
   "pygments_lexer": "ipython3",
   "version": "3.6.9-final"
  }
 },
 "nbformat": 4,
 "nbformat_minor": 2
}