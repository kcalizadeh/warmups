{
 "cells": [
  {
   "cell_type": "code",
   "execution_count": null,
   "metadata": {},
   "outputs": [],
   "source": [
    "def strip_punctuation(string):\n",
    "    \"\"\"\n",
    "    write a function that strips the punctuation from a string\n",
    "    input\n",
    "    string: str, a string type\n",
    "    \n",
    "    return\n",
    "    string: str, a string type without punctuation\n",
    "    \n",
    "    ex:\n",
    "    input\n",
    "    \"Hello World!\"\n",
    "    \n",
    "    return\n",
    "    \"Hello World\"\n",
    "    \"\"\"\n",
    "    pass"
   ]
  },
  {
   "cell_type": "code",
   "execution_count": null,
   "metadata": {},
   "outputs": [],
   "source": [
    "from solutions.day06 import clean_string_solution"
   ]
  },
  {
   "cell_type": "code",
   "execution_count": null,
   "metadata": {},
   "outputs": [],
   "source": [
    "string = \"this! is. a ? string*!{}\"\n",
    "\n",
    "expected = clean_string_solution(string)\n",
    "actual = strip_punctuation(string)\n",
    "\n",
    "assert expected==actual, f\"\\nYour function returned: {actual}\\n\\nShould have returned: {expected}\""
   ]
  },
  {
   "cell_type": "code",
   "execution_count": null,
   "metadata": {},
   "outputs": [],
   "source": []
  }
 ],
 "metadata": {
  "kernelspec": {
   "display_name": "Python [conda env:flatiron-env] *",
   "language": "python",
   "name": "conda-env-flatiron-env-py"
  },
  "language_info": {
   "codemirror_mode": {
    "name": "ipython",
    "version": 3
   },
   "file_extension": ".py",
   "mimetype": "text/x-python",
   "name": "python",
   "nbconvert_exporter": "python",
   "pygments_lexer": "ipython3",
   "version": "3.6.10"
  }
 },
 "nbformat": 4,
 "nbformat_minor": 4
}
