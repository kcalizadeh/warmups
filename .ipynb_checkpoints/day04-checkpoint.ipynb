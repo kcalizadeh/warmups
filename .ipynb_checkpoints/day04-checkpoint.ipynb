{
 "cells": [
  {
   "cell_type": "code",
   "execution_count": null,
   "metadata": {},
   "outputs": [],
   "source": [
    "def get_evens_odds_dict(lst):\n",
    "    \"\"\"\n",
    "    write a function that takes in a lst of integerse\n",
    "    and returns a dictionary with the keys, 'evens' and 'odds'\n",
    "    and the values are a list of the even and odd integers, respectively.\n",
    "    \n",
    "    Ex:\n",
    "    input: lst = [1, 2, 3, 4, 5]\n",
    "    \n",
    "    returns {'evens': [2, 4], 'odds': [1, 3, 5]}\n",
    "    \"\"\"\n",
    "    pass"
   ]
  },
  {
   "cell_type": "code",
   "execution_count": null,
   "metadata": {},
   "outputs": [],
   "source": [
    "# test your code here\n",
    "\n",
    "from solutions.day04 import *\n",
    "import random\n",
    "\n",
    "\n",
    "# test 1\n",
    "lst1 = [random.randint(0, 100) for i in range(30)]\n",
    "actual = get_evens_odds_dict(lst1)\n",
    "expected = even_odd_solution(lst1)\n",
    "assert actual==expected, f\"\\nyour solution returned {actual}\\nIt should have returned {expected}\"\n",
    "\n",
    "\n",
    "# test 2\n",
    "lst1 = [random.randint(0, 10) for i in range(10)]\n",
    "actual = get_evens_odds_dict(lst1)\n",
    "expected = even_odd_solution(lst1)\n",
    "assert actual==expected, f\"\\nyour solution returned {actual}\\nIt should have returned {expected}\""
   ]
  }
 ],
 "metadata": {
  "kernelspec": {
   "display_name": "Python [conda env:flatiron-env] *",
   "language": "python",
   "name": "conda-env-flatiron-env-py"
  },
  "language_info": {
   "codemirror_mode": {
    "name": "ipython",
    "version": 3
   },
   "file_extension": ".py",
   "mimetype": "text/x-python",
   "name": "python",
   "nbconvert_exporter": "python",
   "pygments_lexer": "ipython3",
   "version": "3.6.10"
  }
 },
 "nbformat": 4,
 "nbformat_minor": 4
}
