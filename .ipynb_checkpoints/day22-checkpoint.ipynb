{
 "cells": [
  {
   "cell_type": "code",
   "execution_count": null,
   "metadata": {},
   "outputs": [],
   "source": [
    "import numpy as np"
   ]
  },
  {
   "cell_type": "code",
   "execution_count": null,
   "metadata": {},
   "outputs": [],
   "source": [
    "def create_pmf(lst):\n",
    "    \"\"\"\n",
    "    take in a lst of events\n",
    "    return a dictionary of key:value => event: P(event)\n",
    "    \n",
    "    ex:\n",
    "    lst = [1, 2, 3, 4, 5, 6], (rolling a 6 sided dice)\n",
    "    \n",
    "    pmf = {1: 0.16, 2: 0.16, ..., 6: 0.16}\n",
    "    \"\"\"\n",
    "    pass"
   ]
  },
  {
   "cell_type": "code",
   "execution_count": null,
   "metadata": {},
   "outputs": [],
   "source": [
    "from solutions.day22 import solution_create_pmf"
   ]
  },
  {
   "cell_type": "code",
   "execution_count": null,
   "metadata": {},
   "outputs": [],
   "source": [
    "lst = np.random.randint(0, 10, 20)"
   ]
  },
  {
   "cell_type": "code",
   "execution_count": null,
   "metadata": {},
   "outputs": [],
   "source": [
    "pmf1 = create_pmf(lst)\n",
    "pmf2 = solution_create_pmf(lst)"
   ]
  },
  {
   "cell_type": "code",
   "execution_count": null,
   "metadata": {},
   "outputs": [],
   "source": [
    "assert abs(sum(pmf2.values())-1.0)<0.0002, \"probabilities do not add to 1\"\n",
    "assert pmf1 == pmf2, \"your pmf does not agree with solution\""
   ]
  }
 ],
 "metadata": {
  "kernelspec": {
   "display_name": "Python [conda env:flatiron-env] *",
   "language": "python",
   "name": "conda-env-flatiron-env-py"
  },
  "language_info": {
   "codemirror_mode": {
    "name": "ipython",
    "version": 3
   },
   "file_extension": ".py",
   "mimetype": "text/x-python",
   "name": "python",
   "nbconvert_exporter": "python",
   "pygments_lexer": "ipython3",
   "version": "3.6.10"
  }
 },
 "nbformat": 4,
 "nbformat_minor": 4
}
