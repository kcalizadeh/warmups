{
 "cells": [
  {
   "cell_type": "code",
   "execution_count": 24,
   "metadata": {},
   "outputs": [],
   "source": [
    "def return_math_dict(a, b):\n",
    "    \"\"\"\n",
    "    write a function that returns the sum, difference, product \n",
    "    and quotient of a and b in a dictionary\n",
    "    \n",
    "    input\n",
    "    a: numerical\n",
    "    b: numerical\n",
    "    \n",
    "    return d, dictionary with the keys 'sum', 'diff', 'prod', 'quot' \n",
    "    containing their respective values\n",
    "    \n",
    "    if b = 0 then set quotient to None\n",
    "    \"\"\"\n",
    "    d = {}\n",
    "    d['sum'] = a + b\n",
    "    d['diff'] = a - b\n",
    "    d['prod'] = a * b\n",
    "    d['quot'] = a/b if b!=0 else None\n",
    "    return d"
   ]
  },
  {
   "cell_type": "code",
   "execution_count": 25,
   "metadata": {},
   "outputs": [
    {
     "data": {
      "text/plain": [
       "{'sum': 2, 'diff': 2, 'prod': 0, 'quot': None}"
      ]
     },
     "execution_count": 25,
     "metadata": {},
     "output_type": "execute_result"
    }
   ],
   "source": [
    "return_math_dict(a=2, b=0)"
   ]
  },
  {
   "cell_type": "code",
   "execution_count": 3,
   "metadata": {},
   "outputs": [],
   "source": [
    "# let's take a csv for example\n",
    "# header - contains fields\n",
    "# data for each field\n",
    "\n",
    "# firstName, lastName, DOB\n",
    "# Jon, Smith, Jan 01, 1970\n",
    "# Samantha, Wilson, Jan 01, 1970\n",
    "\n",
    "# keys are like fields\n",
    "# values are the values of the fields\n",
    "row1 = {\"firstName\":\"Jon\", \"lastName\":\"Smith\", \"DOB\":\"Jan 01, 1970\"}\n",
    "row2 = {\"firstName\":\"Samantha\", \"lastName\":\"Wilson\", \"DOB\": \"Jan 01, 1970\"}"
   ]
  },
  {
   "cell_type": "code",
   "execution_count": 5,
   "metadata": {},
   "outputs": [
    {
     "data": {
      "text/plain": [
       "'Samantha'"
      ]
     },
     "execution_count": 5,
     "metadata": {},
     "output_type": "execute_result"
    }
   ],
   "source": [
    "# calling a value by it's key\n",
    "row2['firstName']"
   ]
  },
  {
   "cell_type": "code",
   "execution_count": 6,
   "metadata": {},
   "outputs": [
    {
     "data": {
      "text/plain": [
       "'Smith'"
      ]
     },
     "execution_count": 6,
     "metadata": {},
     "output_type": "execute_result"
    }
   ],
   "source": [
    "# you can do this also with the .get() function\n",
    "row1.get(\"lastName\")"
   ]
  },
  {
   "cell_type": "code",
   "execution_count": 7,
   "metadata": {},
   "outputs": [
    {
     "ename": "KeyError",
     "evalue": "'occupation'",
     "output_type": "error",
     "traceback": [
      "\u001b[0;31m---------------------------------------------------------------------------\u001b[0m",
      "\u001b[0;31mKeyError\u001b[0m                                  Traceback (most recent call last)",
      "\u001b[0;32m<ipython-input-7-61ef20e46032>\u001b[0m in \u001b[0;36m<module>\u001b[0;34m\u001b[0m\n\u001b[1;32m      1\u001b[0m \u001b[0;31m# let's find something that doesn't exist\u001b[0m\u001b[0;34m\u001b[0m\u001b[0;34m\u001b[0m\u001b[0;34m\u001b[0m\u001b[0m\n\u001b[0;32m----> 2\u001b[0;31m \u001b[0mrow1\u001b[0m\u001b[0;34m[\u001b[0m\u001b[0;34m\"occupation\"\u001b[0m\u001b[0;34m]\u001b[0m\u001b[0;34m\u001b[0m\u001b[0;34m\u001b[0m\u001b[0m\n\u001b[0m",
      "\u001b[0;31mKeyError\u001b[0m: 'occupation'"
     ]
    }
   ],
   "source": [
    "# let's find something that doesn't exist\n",
    "row1[\"occupation\"]"
   ]
  },
  {
   "cell_type": "code",
   "execution_count": 10,
   "metadata": {},
   "outputs": [
    {
     "data": {
      "text/plain": [
       "'does not exist'"
      ]
     },
     "execution_count": 10,
     "metadata": {},
     "output_type": "execute_result"
    }
   ],
   "source": [
    "row1.get(\"occupation\", \"does not exist\")"
   ]
  },
  {
   "cell_type": "code",
   "execution_count": null,
   "metadata": {},
   "outputs": [],
   "source": []
  }
 ],
 "metadata": {
  "kernelspec": {
   "display_name": "Python [conda env:flatiron-env] *",
   "language": "python",
   "name": "conda-env-flatiron-env-py"
  },
  "language_info": {
   "codemirror_mode": {
    "name": "ipython",
    "version": 3
   },
   "file_extension": ".py",
   "mimetype": "text/x-python",
   "name": "python",
   "nbconvert_exporter": "python",
   "pygments_lexer": "ipython3",
   "version": "3.6.10"
  }
 },
 "nbformat": 4,
 "nbformat_minor": 4
}
