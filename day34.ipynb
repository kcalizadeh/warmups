{
 "cells": [
  {
   "cell_type": "code",
   "execution_count": 1,
   "metadata": {},
   "outputs": [],
   "source": [
    "import pandas as pd\n",
    "import numpy as np \n",
    "\n",
    "import statsmodels.api as sm\n",
    "from sklearn.model_selection import train_test_split\n",
    "from sklearn.linear_model import LinearRegression\n",
    "from sklearn.model_selection import cross_val_score\n",
    "\n",
    "import matplotlib.pyplot as plt"
   ]
  },
  {
   "cell_type": "code",
   "execution_count": 2,
   "metadata": {},
   "outputs": [
    {
     "output_type": "execute_result",
     "data": {
      "text/plain": "   avgAnnCount  avgDeathsPerYear  TARGET_deathRate  incidenceRate  medIncome  \\\n0       1397.0               469             164.9          489.8      61898   \n1        173.0                70             161.3          411.6      48127   \n2        102.0                50             174.7          349.7      49348   \n3        427.0               202             194.8          430.4      44243   \n4         57.0                26             144.4          350.1      49955   \n\n   popEst2015  povertyPercent  studyPerCap           binnedInc  MedianAge  \\\n0      260131            11.2   499.748204   (61494.5, 125635]       39.3   \n1       43269            18.6    23.111234  (48021.6, 51046.4]       33.0   \n2       21026            14.6    47.560164  (48021.6, 51046.4]       45.0   \n3       75882            17.1   342.637253    (42724.4, 45201]       42.8   \n4       10321            12.5     0.000000  (48021.6, 51046.4]       48.3   \n\n   ...  PctPrivateCoverageAlone  PctEmpPrivCoverage PctPublicCoverage  \\\n0  ...                      NaN                41.6              32.9   \n1  ...                     53.8                43.6              31.1   \n2  ...                     43.5                34.9              42.1   \n3  ...                     40.3                35.0              45.3   \n4  ...                     43.9                35.1              44.0   \n\n   PctPublicCoverageAlone   PctWhite  PctBlack  PctAsian  PctOtherRace  \\\n0                    14.0  81.780529  2.594728  4.821857      1.843479   \n1                    15.3  89.228509  0.969102  2.246233      3.741352   \n2                    21.1  90.922190  0.739673  0.465898      2.747358   \n3                    25.0  91.744686  0.782626  1.161359      1.362643   \n4                    22.7  94.104024  0.270192  0.665830      0.492135   \n\n   PctMarriedHouseholds  BirthRate  \n0             52.856076   6.118831  \n1             45.372500   4.333096  \n2             54.444868   3.729488  \n3             51.021514   4.603841  \n4             54.027460   6.796657  \n\n[5 rows x 34 columns]",
      "text/html": "<div>\n<style scoped>\n    .dataframe tbody tr th:only-of-type {\n        vertical-align: middle;\n    }\n\n    .dataframe tbody tr th {\n        vertical-align: top;\n    }\n\n    .dataframe thead th {\n        text-align: right;\n    }\n</style>\n<table border=\"1\" class=\"dataframe\">\n  <thead>\n    <tr style=\"text-align: right;\">\n      <th></th>\n      <th>avgAnnCount</th>\n      <th>avgDeathsPerYear</th>\n      <th>TARGET_deathRate</th>\n      <th>incidenceRate</th>\n      <th>medIncome</th>\n      <th>popEst2015</th>\n      <th>povertyPercent</th>\n      <th>studyPerCap</th>\n      <th>binnedInc</th>\n      <th>MedianAge</th>\n      <th>...</th>\n      <th>PctPrivateCoverageAlone</th>\n      <th>PctEmpPrivCoverage</th>\n      <th>PctPublicCoverage</th>\n      <th>PctPublicCoverageAlone</th>\n      <th>PctWhite</th>\n      <th>PctBlack</th>\n      <th>PctAsian</th>\n      <th>PctOtherRace</th>\n      <th>PctMarriedHouseholds</th>\n      <th>BirthRate</th>\n    </tr>\n  </thead>\n  <tbody>\n    <tr>\n      <th>0</th>\n      <td>1397.0</td>\n      <td>469</td>\n      <td>164.9</td>\n      <td>489.8</td>\n      <td>61898</td>\n      <td>260131</td>\n      <td>11.2</td>\n      <td>499.748204</td>\n      <td>(61494.5, 125635]</td>\n      <td>39.3</td>\n      <td>...</td>\n      <td>NaN</td>\n      <td>41.6</td>\n      <td>32.9</td>\n      <td>14.0</td>\n      <td>81.780529</td>\n      <td>2.594728</td>\n      <td>4.821857</td>\n      <td>1.843479</td>\n      <td>52.856076</td>\n      <td>6.118831</td>\n    </tr>\n    <tr>\n      <th>1</th>\n      <td>173.0</td>\n      <td>70</td>\n      <td>161.3</td>\n      <td>411.6</td>\n      <td>48127</td>\n      <td>43269</td>\n      <td>18.6</td>\n      <td>23.111234</td>\n      <td>(48021.6, 51046.4]</td>\n      <td>33.0</td>\n      <td>...</td>\n      <td>53.8</td>\n      <td>43.6</td>\n      <td>31.1</td>\n      <td>15.3</td>\n      <td>89.228509</td>\n      <td>0.969102</td>\n      <td>2.246233</td>\n      <td>3.741352</td>\n      <td>45.372500</td>\n      <td>4.333096</td>\n    </tr>\n    <tr>\n      <th>2</th>\n      <td>102.0</td>\n      <td>50</td>\n      <td>174.7</td>\n      <td>349.7</td>\n      <td>49348</td>\n      <td>21026</td>\n      <td>14.6</td>\n      <td>47.560164</td>\n      <td>(48021.6, 51046.4]</td>\n      <td>45.0</td>\n      <td>...</td>\n      <td>43.5</td>\n      <td>34.9</td>\n      <td>42.1</td>\n      <td>21.1</td>\n      <td>90.922190</td>\n      <td>0.739673</td>\n      <td>0.465898</td>\n      <td>2.747358</td>\n      <td>54.444868</td>\n      <td>3.729488</td>\n    </tr>\n    <tr>\n      <th>3</th>\n      <td>427.0</td>\n      <td>202</td>\n      <td>194.8</td>\n      <td>430.4</td>\n      <td>44243</td>\n      <td>75882</td>\n      <td>17.1</td>\n      <td>342.637253</td>\n      <td>(42724.4, 45201]</td>\n      <td>42.8</td>\n      <td>...</td>\n      <td>40.3</td>\n      <td>35.0</td>\n      <td>45.3</td>\n      <td>25.0</td>\n      <td>91.744686</td>\n      <td>0.782626</td>\n      <td>1.161359</td>\n      <td>1.362643</td>\n      <td>51.021514</td>\n      <td>4.603841</td>\n    </tr>\n    <tr>\n      <th>4</th>\n      <td>57.0</td>\n      <td>26</td>\n      <td>144.4</td>\n      <td>350.1</td>\n      <td>49955</td>\n      <td>10321</td>\n      <td>12.5</td>\n      <td>0.000000</td>\n      <td>(48021.6, 51046.4]</td>\n      <td>48.3</td>\n      <td>...</td>\n      <td>43.9</td>\n      <td>35.1</td>\n      <td>44.0</td>\n      <td>22.7</td>\n      <td>94.104024</td>\n      <td>0.270192</td>\n      <td>0.665830</td>\n      <td>0.492135</td>\n      <td>54.027460</td>\n      <td>6.796657</td>\n    </tr>\n  </tbody>\n</table>\n<p>5 rows × 34 columns</p>\n</div>"
     },
     "metadata": {},
     "execution_count": 2
    }
   ],
   "source": [
    "df = pd.read_csv(\"./data/regression/OLSChallenge.csv\", encoding=\"ISO-8859-1\")\n",
    "df.head()"
   ]
  },
  {
   "cell_type": "code",
   "execution_count": 4,
   "metadata": {},
   "outputs": [],
   "source": [
    "X = df[['medIncome','popEst2015','povertyPercent','studyPerCap']]\n",
    "y = df['avgDeathsPerYear']"
   ]
  },
  {
   "cell_type": "code",
   "execution_count": 5,
   "metadata": {},
   "outputs": [],
   "source": [
    "# perform a train/test split on X and y of 80% training data using scikit train_test_split\n",
    "X_train, X_test, y_train, y_test = train_test_split(X, y, test_size=0.2, random_state=17)"
   ]
  },
  {
   "cell_type": "code",
   "execution_count": 6,
   "metadata": {},
   "outputs": [
    {
     "output_type": "execute_result",
     "data": {
      "text/plain": "LinearRegression(copy_X=True, fit_intercept=True, n_jobs=None, normalize=False)"
     },
     "metadata": {},
     "execution_count": 6
    }
   ],
   "source": [
    "# fit a linear model on the training data\n",
    "linreg = LinearRegression()\n",
    "linreg.fit(X_train, y_train)"
   ]
  },
  {
   "cell_type": "code",
   "execution_count": 10,
   "metadata": {},
   "outputs": [],
   "source": [
    "# evaluate the model on the testing data\n",
    "y_hat_test = linreg.predict(X_test)\n",
    "\n"
   ]
  },
  {
   "cell_type": "code",
   "execution_count": 11,
   "metadata": {},
   "outputs": [],
   "source": [
    "# compare the r2 scores of the model on the training and test data"
   ]
  },
  {
   "cell_type": "code",
   "execution_count": null,
   "metadata": {},
   "outputs": [],
   "source": []
  }
 ],
 "metadata": {
  "kernelspec": {
   "name": "Python 3.6.9 64-bit ('learn-env': conda)",
   "display_name": "Python 3.6.9 64-bit ('learn-env': conda)",
   "metadata": {
    "interpreter": {
     "hash": "9ac4d3343b464ceb9c6b349fee6aeea784c980ce57d0bbc1775a5f7d482c030a"
    }
   }
  },
  "language_info": {
   "codemirror_mode": {
    "name": "ipython",
    "version": 3
   },
   "file_extension": ".py",
   "mimetype": "text/x-python",
   "name": "python",
   "nbconvert_exporter": "python",
   "pygments_lexer": "ipython3",
   "version": "3.6.9-final"
  }
 },
 "nbformat": 4,
 "nbformat_minor": 2
}