{
 "cells": [
  {
   "cell_type": "code",
   "execution_count": null,
   "metadata": {},
   "outputs": [],
   "source": [
    "def check_is_perfect(n):\n",
    "    \"\"\"\n",
    "    perfect number (definition)\n",
    "    a number n, is perfect, iff the sum of its unique divisors (excluding the number itself) add to n\n",
    "    \n",
    "    ex: 6 is perfect since its divisors (1, 2 and 3) add to 6\n",
    "    \n",
    "    input:\n",
    "    n, int\n",
    "    \n",
    "    return\n",
    "    is_perfect: bool, True if n is perfect, otherwise, False\n",
    "    \"\"\"\n",
    "    return None"
   ]
  },
  {
   "cell_type": "code",
   "execution_count": null,
   "metadata": {},
   "outputs": [],
   "source": [
    "assert check_is_perfect(6)==True, \"check is perfect does not work correctly\"\n",
    "assert check_is_perfect(28)==True, \"check is perfect does not work correctly\"\n",
    "assert check_is_perfect(496)==True, \"check is perfect does not work correctly\"\n",
    "assert check_is_perfect(7)==False, \"check is perfect does not work correctly\""
   ]
  },
  {
   "cell_type": "code",
   "execution_count": null,
   "metadata": {},
   "outputs": [],
   "source": []
  }
 ],
 "metadata": {
  "kernelspec": {
   "display_name": "Python [conda env:flatiron-env] *",
   "language": "python",
   "name": "conda-env-flatiron-env-py"
  },
  "language_info": {
   "codemirror_mode": {
    "name": "ipython",
    "version": 3
   },
   "file_extension": ".py",
   "mimetype": "text/x-python",
   "name": "python",
   "nbconvert_exporter": "python",
   "pygments_lexer": "ipython3",
   "version": "3.6.10"
  }
 },
 "nbformat": 4,
 "nbformat_minor": 4
}
