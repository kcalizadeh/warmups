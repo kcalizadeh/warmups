{
 "cells": [
  {
   "cell_type": "code",
   "execution_count": 1,
   "metadata": {},
   "outputs": [],
   "source": [
    "with open(\"../data/queenLyrics.txt\") as f:\n",
    "    odd_lines = []\n",
    "    for index, line in enumerate(f.readlines()):\n",
    "        if (index+1)%2==1:\n",
    "            odd_lines.append(line)"
   ]
  },
  {
   "cell_type": "code",
   "execution_count": 2,
   "metadata": {},
   "outputs": [
    {
     "data": {
      "text/plain": [
       "['\"Crazy Little Thing Called Love\"\\n',\n",
       " 'This thing called love\\n',\n",
       " 'This thing called love\\n',\n",
       " \"I ain't ready\\n\",\n",
       " '\\n',\n",
       " 'It cries (like a baby) in a cradle all night\\n',\n",
       " 'It shakes all over like a jelly fish,\\n',\n",
       " 'Crazy little thing called love\\n',\n",
       " 'There goes my baby\\n',\n",
       " 'She drives me crazy\\n',\n",
       " 'She leaves me in a cool, cool sweat\\n',\n",
       " 'I gotta be cool, relax, get hip\\n',\n",
       " 'Take a back seat, hitch-hike\\n',\n",
       " \"Until I'm ready\\n\",\n",
       " '\\n',\n",
       " 'And get on my tracks\\n',\n",
       " 'And take a long ride on my motorbike\\n',\n",
       " 'Crazy little thing called love\\n',\n",
       " 'This thing called love\\n',\n",
       " 'This thing called love\\n',\n",
       " \"I ain't ready\\n\"]"
      ]
     },
     "execution_count": 2,
     "metadata": {},
     "output_type": "execute_result"
    }
   ],
   "source": [
    "odd_lines"
   ]
  },
  {
   "cell_type": "code",
   "execution_count": null,
   "metadata": {},
   "outputs": [],
   "source": []
  }
 ],
 "metadata": {
  "kernelspec": {
   "display_name": "Python [conda env:flatiron-env] *",
   "language": "python",
   "name": "conda-env-flatiron-env-py"
  },
  "language_info": {
   "codemirror_mode": {
    "name": "ipython",
    "version": 3
   },
   "file_extension": ".py",
   "mimetype": "text/x-python",
   "name": "python",
   "nbconvert_exporter": "python",
   "pygments_lexer": "ipython3",
   "version": "3.6.10"
  }
 },
 "nbformat": 4,
 "nbformat_minor": 4
}
