{
 "cells": [
  {
   "cell_type": "code",
   "execution_count": 1,
   "metadata": {},
   "outputs": [],
   "source": [
    "import pandas as pd \n",
    "import numpy as np"
   ]
  },
  {
   "cell_type": "code",
   "execution_count": 3,
   "metadata": {},
   "outputs": [],
   "source": [
    "def bootstrap(arr):\n",
    "    \"\"\"\n",
    "    write a function that takes in a numpy arr\n",
    "    and returns a bootstrap sample of that array\n",
    "    \"\"\"\n",
    "    return np.random.choice(arr, size=arr.shape, replace=True)"
   ]
  },
  {
   "cell_type": "code",
   "execution_count": 5,
   "metadata": {},
   "outputs": [],
   "source": [
    "def estimate_mean_clt(arr, num_samples):\n",
    "    \"\"\"\n",
    "    write a function that takes in a numpy arr\n",
    "    and estimates the mean of the array using num_samples\n",
    "    of bootstrap samples\n",
    "    \n",
    "    ex: if num_samples=40 then it would use 40 bootstrap samples\n",
    "    to estimate the mean of arr\n",
    "    \"\"\"\n",
    "    sample_mus = []\n",
    "    for i in range(num_samples):\n",
    "        sample = bootstrap(arr)\n",
    "        sample_mu = sample.mean()\n",
    "        sample_mus.append(sample_mu)\n",
    "    return np.mean(sample_mus)"
   ]
  },
  {
   "cell_type": "code",
   "execution_count": 6,
   "metadata": {},
   "outputs": [],
   "source": [
    "def calculate_sample_std(arr):\n",
    "    \"\"\"\n",
    "    write a function that takes in arr and\n",
    "    returns the output for the formula for sample_std\n",
    "    \n",
    "    sample_std = pop_std / sqrt(n)\n",
    "    where n = number of samples in each sampling distribution\n",
    "    and pop_std is the standard deviation of the population\n",
    "    \"\"\"\n",
    "    pop_std = np.std(arr)\n",
    "    return pop_std / arr.shape[0]"
   ]
  },
  {
   "cell_type": "code",
   "execution_count": 9,
   "metadata": {},
   "outputs": [],
   "source": [
    "# load in test data\n",
    "X = np.loadtxt(\"../data/day25_arr.txt\")"
   ]
  },
  {
   "cell_type": "code",
   "execution_count": 10,
   "metadata": {},
   "outputs": [
    {
     "data": {
      "text/plain": [
       "(76.57513432077627, 76.65532517703481)"
      ]
     },
     "execution_count": 10,
     "metadata": {},
     "output_type": "execute_result"
    }
   ],
   "source": [
    "# compare the mean of X with the esimate_mean_clt of X using 30 samples\n",
    "X.mean(), estimate_mean_clt(X, num_samples=30)"
   ]
  },
  {
   "cell_type": "code",
   "execution_count": null,
   "metadata": {},
   "outputs": [],
   "source": []
  }
 ],
 "metadata": {
  "kernelspec": {
   "display_name": "flatiron-env",
   "language": "python",
   "name": "flatiron-env"
  },
  "language_info": {
   "codemirror_mode": {
    "name": "ipython",
    "version": 3
   },
   "file_extension": ".py",
   "mimetype": "text/x-python",
   "name": "python",
   "nbconvert_exporter": "python",
   "pygments_lexer": "ipython3",
   "version": "3.7.3"
  }
 },
 "nbformat": 4,
 "nbformat_minor": 2
}
