{
 "cells": [
  {
   "cell_type": "code",
   "execution_count": null,
   "metadata": {},
   "outputs": [],
   "source": [
    "# complete this warmup this morning\n",
    "# run this cell to get the data loaded\n",
    "with open(\"data/phaedo_intro.txt\") as f:\n",
    "    phaedo_intro = f.read()"
   ]
  },
  {
   "cell_type": "code",
   "execution_count": null,
   "metadata": {},
   "outputs": [],
   "source": [
    "# run this cell to see the text\n",
    "print(phaedo_intro)"
   ]
  },
  {
   "cell_type": "code",
   "execution_count": null,
   "metadata": {},
   "outputs": [],
   "source": [
    "# this is the intro to the Phaedo by Plato\n",
    "\n",
    "# each paragraph begins as such \n",
    "# character. <what they say>\n",
    "\n",
    "# please create a dictionary containing the following key, value pairs\n",
    "# keys = character names\n",
    "# values = list containing all of the paragraphs they say\n",
    "\n",
    "# IMPORTANT! character names might get abbreviated, please only have 1 key per character\n",
    "# They key must be the full name of the character"
   ]
  },
  {
   "cell_type": "code",
   "execution_count": null,
   "metadata": {},
   "outputs": [],
   "source": []
  }
 ],
 "metadata": {
  "kernelspec": {
   "display_name": "Python [conda env:flatiron-env] *",
   "language": "python",
   "name": "conda-env-flatiron-env-py"
  },
  "language_info": {
   "codemirror_mode": {
    "name": "ipython",
    "version": 3
   },
   "file_extension": ".py",
   "mimetype": "text/x-python",
   "name": "python",
   "nbconvert_exporter": "python",
   "pygments_lexer": "ipython3",
   "version": "3.6.10"
  }
 },
 "nbformat": 4,
 "nbformat_minor": 4
}
