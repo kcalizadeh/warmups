{
 "cells": [
  {
   "cell_type": "code",
   "execution_count": null,
   "metadata": {},
   "outputs": [],
   "source": [
    "import numpy as np \n",
    "\n",
    "import scipy.stats as scs\n",
    "from statsmodels.stats.power import tt_ind_solve_power\n",
    "\n",
    "import matplotlib.pyplot as plt\n",
    "import seaborn as sns"
   ]
  },
  {
   "cell_type": "code",
   "execution_count": null,
   "metadata": {},
   "outputs": [],
   "source": [
    "# load in arrays for the following exercises\n",
    "\n",
    "arr1 = np.loadtxt(\"./data/norm_dist1.txt\")\n",
    "arr2 = np.loadtxt(\"./data/norm_dist2.txt\")"
   ]
  },
  {
   "cell_type": "code",
   "execution_count": null,
   "metadata": {},
   "outputs": [],
   "source": [
    "# calculate Cohen's d (effect_size) for the given sample distributions\n",
    "def cohens_d(arr1, arr2):\n",
    "    pass\n",
    "\n",
    "effect_size = cohens_d(arr1, arr2)"
   ]
  },
  {
   "cell_type": "code",
   "execution_count": null,
   "metadata": {},
   "outputs": [],
   "source": [
    "# then use Cohen's d to calculate the power score with an alpha of 0.10\n",
    "effect_size = effect_size\n",
    "alpha = None\n",
    "nobs1 = None\n",
    "\n",
    "power = None\n",
    "print(power)"
   ]
  },
  {
   "cell_type": "markdown",
   "metadata": {},
   "source": [
    "# What can you say about the power score?\n",
    "Answer here:\n",
    "* \n"
   ]
  },
  {
   "cell_type": "code",
   "execution_count": null,
   "metadata": {},
   "outputs": [],
   "source": [
    "def plot_distributions(arr1, arr2, title1='arr1', title2='arr2', bins=20):\n",
    "    sns.distplot(arr1, label=title1, bins=bins)\n",
    "    sns.distplot(arr2, label=title2, bins=bins)\n",
    "    plt.legend()\n",
    "    plt.show()\n",
    "    "
   ]
  },
  {
   "cell_type": "code",
   "execution_count": null,
   "metadata": {},
   "outputs": [],
   "source": [
    "# Now plot these distributions, does the power score make sense given the visualization?\n",
    "plot_distributions(arr1, arr2)"
   ]
  },
  {
   "cell_type": "markdown",
   "metadata": {},
   "source": [
    "# Please read this article to see how sample size and effect size change the Power score\n",
    "\n",
    "[link here](https://medium.com/swlh/why-sample-size-and-effect-size-increase-the-power-of-a-statistical-test-1fc12754c322)"
   ]
  }
 ],
 "metadata": {
  "kernelspec": {
   "display_name": "flatiron-env",
   "language": "python",
   "name": "flatiron-env"
  },
  "language_info": {
   "codemirror_mode": {
    "name": "ipython",
    "version": 3
   },
   "file_extension": ".py",
   "mimetype": "text/x-python",
   "name": "python",
   "nbconvert_exporter": "python",
   "pygments_lexer": "ipython3",
   "version": "3.7.3"
  }
 },
 "nbformat": 4,
 "nbformat_minor": 2
}
